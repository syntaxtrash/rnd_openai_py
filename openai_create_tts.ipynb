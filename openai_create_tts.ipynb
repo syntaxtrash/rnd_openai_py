{
 "cells": [
  {
   "cell_type": "markdown",
   "metadata": {},
   "source": [
    "# Unserstanding text to speech (TTS)"
   ]
  },
  {
   "cell_type": "markdown",
   "metadata": {},
   "source": [
    "TTS systems are designed to read text aloud in a way that sounds natural and intelligible to human listeners. OpenAI’s TTS models leverage advanced neural networks to produce high-quality, human-like speech."
   ]
  },
  {
   "cell_type": "markdown",
   "metadata": {},
   "source": [
    "## Creating TTS"
   ]
  },
  {
   "cell_type": "markdown",
   "metadata": {},
   "source": [
    "Establish the connection to OpenAI:\n"
   ]
  },
  {
   "cell_type": "code",
   "execution_count": 19,
   "metadata": {},
   "outputs": [],
   "source": [
    "import os\n",
    "from pathlib import Path\n",
    "from openai import OpenAI\n",
    "from dotenv import load_dotenv, find_dotenv\n",
    "\n",
    "# Load the .env\n",
    "load_dotenv(find_dotenv())\n",
    "\n",
    "client = OpenAI(api_key=os.getenv('OPENAI_API_KEY'))"
   ]
  },
  {
   "cell_type": "markdown",
   "metadata": {},
   "source": [
    "Create our input text:"
   ]
  },
  {
   "cell_type": "code",
   "execution_count": 20,
   "metadata": {},
   "outputs": [],
   "source": [
    "input_text = \"\"\"\n",
    "Hello, I'm your assistant!\n",
    "\"\"\""
   ]
  },
  {
   "cell_type": "markdown",
   "metadata": {},
   "source": [
    " Specify the path where you want to save the speech file:\n"
   ]
  },
  {
   "cell_type": "code",
   "execution_count": 21,
   "metadata": {},
   "outputs": [],
   "source": [
    "speech_file_path = Path(\"speech.mp3\")\n",
    "# Let's just put in the root folder"
   ]
  },
  {
   "cell_type": "markdown",
   "metadata": {},
   "source": [
    "Generate the TTS from text:"
   ]
  },
  {
   "cell_type": "code",
   "execution_count": 22,
   "metadata": {},
   "outputs": [],
   "source": [
    "response = client.audio.speech.create(\n",
    "  model=\"tts-1\",\n",
    "  voice=\"nova\",\n",
    "  input= input_text\n",
    ")"
   ]
  },
  {
   "cell_type": "markdown",
   "metadata": {},
   "source": [
    "Write the audio content to the specified file path:"
   ]
  },
  {
   "cell_type": "code",
   "execution_count": 23,
   "metadata": {},
   "outputs": [
    {
     "name": "stdout",
     "output_type": "stream",
     "text": [
      "Your audio is ready! D:\\lab\\rnd_openai_py\\speech.mp3\n"
     ]
    }
   ],
   "source": [
    "with open(speech_file_path.resolve(), \"wb\") as f:\n",
    "    f.write(response.content)\n",
    "\n",
    "print(\"Your audio is ready!\", speech_file_path.resolve())"
   ]
  },
  {
   "cell_type": "markdown",
   "metadata": {},
   "source": [
    "Pauses are typically added automatically without needing any special commands, but this isn't always the case. \n",
    "Read more:\n",
    "- https://community.openai.com/t/tts-adding-pauses-to-speech-generations-through-some-kind-of-input-syntax/578571/\n",
    "- https://community.openai.com/t/adding-pauses-to-tts-for-generating-meditations/504634/\n",
    "\n",
    "Here's how you can simulate a pause:"
   ]
  },
  {
   "cell_type": "code",
   "execution_count": 24,
   "metadata": {},
   "outputs": [
    {
     "name": "stdout",
     "output_type": "stream",
     "text": [
      "Your audio is ready! D:\\lab\\rnd_openai_py\\speech-with-pause.mp3\n"
     ]
    }
   ],
   "source": [
    "input_text = \"\"\"\n",
    "Hello, [pause][pause][pause][pause][pause]\n",
    "I'm your assistant!\n",
    "\"\"\"\n",
    "\n",
    "# or with special characters\n",
    "# input_text = \"\"\"\n",
    "# Hello, -------------------------------\n",
    "# I'm your assistant!\n",
    "# \"\"\"\n",
    "\n",
    "speech_file_path = Path(\"speech-with-pause.mp3\")\n",
    "\n",
    "response = client.audio.speech.create(\n",
    "  model=\"tts-1\",\n",
    "  voice=\"nova\",\n",
    "  input= input_text\n",
    ")\n",
    "\n",
    "with open(speech_file_path.resolve(), \"wb\") as f:\n",
    "    f.write(response.content)\n",
    "    \n",
    "print(\"Your audio is ready!\", speech_file_path.resolve())"
   ]
  },
  {
   "cell_type": "markdown",
   "metadata": {},
   "source": [
    "Read more about the available voices: \n",
    "https://platform.openai.com/docs/guides/text-to-speech/voice-options\n",
    "\n",
    "Read more about the available TTS models: \n",
    "https://platform.openai.com/docs/models/tts\n",
    "\n",
    "Read more about the TTS API endpoint: \n",
    "https://platform.openai.com/docs/api-reference/audio/createSpeech\n"
   ]
  }
 ],
 "metadata": {
  "kernelspec": {
   "display_name": "Python 3",
   "language": "python",
   "name": "python3"
  },
  "language_info": {
   "codemirror_mode": {
    "name": "ipython",
    "version": 3
   },
   "file_extension": ".py",
   "mimetype": "text/x-python",
   "name": "python",
   "nbconvert_exporter": "python",
   "pygments_lexer": "ipython3",
   "version": "3.12.2"
  }
 },
 "nbformat": 4,
 "nbformat_minor": 2
}
