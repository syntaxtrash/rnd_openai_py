{
 "cells": [
  {
   "cell_type": "markdown",
   "metadata": {},
   "source": [
    "### Output Parsers\n",
    "\n",
    "Output parsers take the results from a language model and change them into a format that's better for what you need. This is really helpful when you're using language models to create organized data. \n",
    "\n",
    "There are a lot of output parser types, the examples will use _'Structured output parser'/Python Dictionary_\n",
    "\n",
    "Without Output Parser:"
   ]
  },
  {
   "cell_type": "code",
   "execution_count": 82,
   "metadata": {},
   "outputs": [
    {
     "name": "stdout",
     "output_type": "stream",
     "text": [
      "input_variables=['output_format', 'question'] messages=[HumanMessagePromptTemplate(prompt=PromptTemplate(input_variables=['output_format', 'question'], template='answer the users question as best as possible. Output should be a python dictionary. \\n{output_format}\\n{question}'))]\n"
     ]
    }
   ],
   "source": [
    "from langchain.prompts import ChatPromptTemplate\n",
    "from langchain.chat_models import ChatOpenAI\n",
    "\n",
    "output_format = {\n",
    "  \"answer\": \"string //answer to the user's question\",\n",
    "  \"source\": \"string // source used to answer the user's question, should be a website.\",\n",
    "}\n",
    "\n",
    "string_template = \"\"\"answer the users question as best as possible. Output should be a python dictionary. \\n{output_format}\\n{question}\"\"\"\n",
    "prompt_template = ChatPromptTemplate.from_template(string_template)\n",
    "\n",
    "print(prompt_template)"
   ]
  },
  {
   "cell_type": "code",
   "execution_count": 83,
   "metadata": {},
   "outputs": [
    {
     "name": "stdout",
     "output_type": "stream",
     "text": [
      "Prompt:  What is the capital of the Philippines?\n",
      "Output:  {'answer': 'Manila', 'source': 'https://www.worldatlas.com/as/ph/where-is-the-philippines.html'}\n"
     ]
    }
   ],
   "source": [
    "question = \"What is the capital of the Philippines?\"\n",
    "\n",
    "messages = prompt_template.format_messages(output_format=output_format, question=question)\n",
    "\n",
    "llm = ChatOpenAI(temperature=0.0, model=\"gpt-3.5-turbo\")\n",
    "\n",
    "response = llm.invoke(messages)\n",
    "\n",
    "print(\"Prompt: \", question)\n",
    "print(\"Output: \", response.content)"
   ]
  },
  {
   "cell_type": "markdown",
   "metadata": {},
   "source": [
    "The output is only in a python dictionary format but the datatype is still string."
   ]
  },
  {
   "cell_type": "code",
   "execution_count": 84,
   "metadata": {},
   "outputs": [
    {
     "data": {
      "text/plain": [
       "str"
      ]
     },
     "execution_count": 84,
     "metadata": {},
     "output_type": "execute_result"
    }
   ],
   "source": [
    "type(response.content)"
   ]
  },
  {
   "cell_type": "markdown",
   "metadata": {},
   "source": [
    "We will get an error if we try to access the `answer` key because `answer` is a string not a dictionary."
   ]
  },
  {
   "cell_type": "code",
   "execution_count": 85,
   "metadata": {},
   "outputs": [
    {
     "ename": "AttributeError",
     "evalue": "'str' object has no attribute 'get'",
     "output_type": "error",
     "traceback": [
      "\u001b[1;31m---------------------------------------------------------------------------\u001b[0m",
      "\u001b[1;31mAttributeError\u001b[0m                            Traceback (most recent call last)",
      "Cell \u001b[1;32mIn[85], line 1\u001b[0m\n\u001b[1;32m----> 1\u001b[0m \u001b[43mresponse\u001b[49m\u001b[38;5;241;43m.\u001b[39;49m\u001b[43mcontent\u001b[49m\u001b[38;5;241;43m.\u001b[39;49m\u001b[43mget\u001b[49m(\u001b[38;5;124m'\u001b[39m\u001b[38;5;124manswer\u001b[39m\u001b[38;5;124m'\u001b[39m)\n",
      "\u001b[1;31mAttributeError\u001b[0m: 'str' object has no attribute 'get'"
     ]
    }
   ],
   "source": [
    "response.content.get('answer')"
   ]
  },
  {
   "cell_type": "markdown",
   "metadata": {},
   "source": [
    "With Output Parser:"
   ]
  },
  {
   "cell_type": "code",
   "execution_count": 105,
   "metadata": {},
   "outputs": [],
   "source": [
    "from langchain.output_parsers import ResponseSchema, StructuredOutputParser\n",
    "\n",
    "answer_schema = ResponseSchema(name=\"answer\", description=\"answer to the user's question\")\n",
    "source_schema = ResponseSchema(\n",
    "        name=\"source\",\n",
    "        description=\"source used to answer the user's question, should be a website.\",\n",
    ")\n",
    "\n",
    "response_schemas = [answer_schema, source_schema]\n",
    "\n",
    "# or directly\n",
    "# response_schemas = [\n",
    "#     ResponseSchema(name=\"answer\", description=\"answer to the user's question\"),\n",
    "#     ResponseSchema(\n",
    "#         name=\"source\",\n",
    "#         description=\"source used to answer the user's question, should be a website.\"\n",
    "#     )\n",
    "# ]"
   ]
  },
  {
   "cell_type": "code",
   "execution_count": 90,
   "metadata": {},
   "outputs": [],
   "source": [
    "output_parser = StructuredOutputParser.from_response_schemas(response_schemas)"
   ]
  },
  {
   "cell_type": "code",
   "execution_count": 91,
   "metadata": {},
   "outputs": [],
   "source": [
    "format_instructions = output_parser.get_format_instructions()"
   ]
  },
  {
   "cell_type": "code",
   "execution_count": 92,
   "metadata": {},
   "outputs": [],
   "source": [
    "question = \"What is the capital of the Philippines?\"\n",
    "string_template = \"\"\"answer the users question as best as possible.\\n{format_instructions}\\n{question}\"\"\""
   ]
  },
  {
   "cell_type": "code",
   "execution_count": 113,
   "metadata": {},
   "outputs": [
    {
     "name": "stdout",
     "output_type": "stream",
     "text": [
      "```json\n",
      "{\n",
      "\t\"answer\": \"Manila\",\n",
      "\t\"source\": \"https://en.wikipedia.org/wiki/Manila\"\n",
      "}\n",
      "```\n",
      "<class 'str'>\n"
     ]
    }
   ],
   "source": [
    "prompt_template = ChatPromptTemplate.from_template(string_template)\n",
    "question_message = prompt_template.format_messages(format_instructions=format_instructions, question=question)\n",
    "\n",
    "response = llm.invoke(question_message)\n",
    "\n",
    "print(response.content)\n",
    "print(type(response.content))"
   ]
  },
  {
   "cell_type": "code",
   "execution_count": 114,
   "metadata": {},
   "outputs": [
    {
     "data": {
      "text/plain": [
       "'Manila'"
      ]
     },
     "execution_count": 114,
     "metadata": {},
     "output_type": "execute_result"
    }
   ],
   "source": [
    "output_dict = output_parser.parse(response.content)\n",
    "type(output_dict)\n",
    "output_dict.get('answer')\n",
    "\n",
    "# https://python.langchain.com/docs/modules/model_io/output_parsers/#output-parser-types"
   ]
  }
 ],
 "metadata": {
  "kernelspec": {
   "display_name": "Python 3",
   "language": "python",
   "name": "python3"
  },
  "language_info": {
   "codemirror_mode": {
    "name": "ipython",
    "version": 3
   },
   "file_extension": ".py",
   "mimetype": "text/x-python",
   "name": "python",
   "nbconvert_exporter": "python",
   "pygments_lexer": "ipython3",
   "version": "3.12.2"
  }
 },
 "nbformat": 4,
 "nbformat_minor": 2
}
