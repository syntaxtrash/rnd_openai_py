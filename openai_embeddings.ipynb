{
 "cells": [
  {
   "cell_type": "markdown",
   "id": "4cbaf439",
   "metadata": {},
   "source": [
    "# Creating Embeddings\n"
   ]
  },
  {
   "cell_type": "code",
   "execution_count": 59,
   "id": "3eb2c78c",
   "metadata": {},
   "outputs": [],
   "source": [
    "from openai import OpenAI\n",
    "client = OpenAI()"
   ]
  },
  {
   "cell_type": "code",
   "execution_count": 60,
   "id": "86dc601a",
   "metadata": {},
   "outputs": [],
   "source": [
    "MODEL = \"text-embedding-3-small\""
   ]
  },
  {
   "cell_type": "code",
   "execution_count": 79,
   "id": "f2eb70eb",
   "metadata": {},
   "outputs": [
    {
     "ename": "AttributeError",
     "evalue": "type object 'Pinecone' has no attribute 'init'",
     "output_type": "error",
     "traceback": [
      "\u001b[1;31m---------------------------------------------------------------------------\u001b[0m",
      "\u001b[1;31mAttributeError\u001b[0m                            Traceback (most recent call last)",
      "Cell \u001b[1;32mIn[79], line 3\u001b[0m\n\u001b[0;32m      1\u001b[0m \u001b[38;5;28;01mfrom\u001b[39;00m \u001b[38;5;21;01mpinecone\u001b[39;00m \u001b[38;5;28;01mimport\u001b[39;00m Pinecone\n\u001b[0;32m      2\u001b[0m pc \u001b[38;5;241m=\u001b[39m Pinecone(api_key\u001b[38;5;241m=\u001b[39m\u001b[38;5;124m'\u001b[39m\u001b[38;5;124mfc815329-1bf7-48d2-b699-c5f3726efc39\u001b[39m\u001b[38;5;124m'\u001b[39m)\n\u001b[1;32m----> 3\u001b[0m \u001b[43mPinecone\u001b[49m\u001b[38;5;241;43m.\u001b[39;49m\u001b[43minit\u001b[49m(api_key\u001b[38;5;241m=\u001b[39m\u001b[38;5;124m\"\u001b[39m\u001b[38;5;124mfc815329-1bf7-48d2-b699-c5f3726efc39\u001b[39m\u001b[38;5;124m\"\u001b[39m, environment\u001b[38;5;241m=\u001b[39m\u001b[38;5;124m\"\u001b[39m\u001b[38;5;124mgcp-starter\u001b[39m\u001b[38;5;124m\"\u001b[39m)\n",
      "\u001b[1;31mAttributeError\u001b[0m: type object 'Pinecone' has no attribute 'init'"
     ]
    }
   ],
   "source": [
    "from pinecone import Pinecone\n",
    "pc = Pinecone(api_key='fc815329-1bf7-48d2-b699-c5f3726efc39')\n",
    "\n"
   ]
  },
  {
   "cell_type": "code",
   "execution_count": 62,
   "id": "b8a85485",
   "metadata": {},
   "outputs": [
    {
     "data": {
      "text/plain": [
       "{'dimension': 1536,\n",
       " 'index_fullness': 0.01,\n",
       " 'namespaces': {'': {'vector_count': 1000}},\n",
       " 'total_vector_count': 1000}"
      ]
     },
     "execution_count": 62,
     "metadata": {},
     "output_type": "execute_result"
    }
   ],
   "source": [
    "import time\n",
    "from pinecone import ServerlessSpec\n",
    "\n",
    "index_name = 'semantic-search-openai'\n",
    "\n",
    "# connect to index\n",
    "index = pc.Index(index_name)\n",
    "time.sleep(1)\n",
    "# view index stats\n",
    "index.describe_index_stats()"
   ]
  },
  {
   "cell_type": "code",
   "execution_count": 76,
   "id": "176c7e49",
   "metadata": {},
   "outputs": [],
   "source": [
    "query = \"How many oceans are there and name them?\"\n",
    "\n",
    "xq = client.embeddings.create(input=query, model='text-embedding-3-small').data[0].embedding\n",
    "res = index.query(vector=[xq], top_k=10, include_metadata=True)"
   ]
  },
  {
   "cell_type": "code",
   "execution_count": 77,
   "id": "68e982f8",
   "metadata": {},
   "outputs": [
    {
     "name": "stdout",
     "output_type": "stream",
     "text": [
      "0.98: How many oceans are there and name them ?\n",
      "0.73: What are the world 's four oceans ?\n",
      "0.57: What ocean is the largest in the world ?\n",
      "0.42: How many species of sharks are there ?\n",
      "0.36: How many species of the Great White shark are there ?\n",
      "0.36: How many hearts does an octopus have ?\n",
      "0.35: What types of water pollution are there ?\n",
      "0.35: How many people are there in the world ?\n",
      "0.35: What sea did the Romans call mare nostrum ?\n",
      "0.33: How many South American countries have the letter Z in their names ?\n"
     ]
    }
   ],
   "source": [
    "for match in res['matches']:\n",
    "    print(f\"{match['score']:.2f}: {match['metadata']['text']}\")"
   ]
  }
 ],
 "metadata": {
  "kernelspec": {
   "display_name": "Python 3",
   "language": "python",
   "name": "python3"
  },
  "language_info": {
   "codemirror_mode": {
    "name": "ipython",
    "version": 3
   },
   "file_extension": ".py",
   "mimetype": "text/x-python",
   "name": "python",
   "nbconvert_exporter": "python",
   "pygments_lexer": "ipython3",
   "version": "3.12.2"
  }
 },
 "nbformat": 4,
 "nbformat_minor": 5
}
