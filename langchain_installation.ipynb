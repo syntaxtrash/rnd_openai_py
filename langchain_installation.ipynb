{
 "cells": [
  {
   "cell_type": "markdown",
   "metadata": {},
   "source": [
    "## Install LangChain Library for Python\n",
    "\n",
    "Install the LangChain Python Library for OpenAI with pip by running this command in the terminal:\n",
    "``` bash \n",
    "pip install --upgrade langchain langchain-openai\n",
    "```\n",
    "\n",
    "I have no idea why they separated the `langchain-openai` package from the `langchain` package. The [ChatOpenAI from the `langchain` package is deprecated](https://api.python.langchain.com/en/latest/chat_models/langchain_community.chat_models.openai.ChatOpenAI.html). We're going to use the [ChatOpenAI from the `langchain-openai`](https://api.python.langchain.com/en/latest/chat_models/langchain_openai.chat_models.base.ChatOpenAI.html) as they suggest from this warning message.\n",
    "\n",
    "```python\n",
    "LangChainDeprecationWarning: The class `langchain_community.chat_models.openai.ChatOpenAI` was deprecated in langchain-community 0.0.10 and will be removed in 0.2.0. An updated version of the class exists in the langchain-openai package and should be used instead. To use it run `pip install -U langchain-openai` and import as `from langchain_openai import ChatOpenAI`.\n",
    "  warn_deprecated(\n",
    "```\n"
   ]
  },
  {
   "cell_type": "markdown",
   "metadata": {},
   "source": [
    "### Chat API : LangChain\n",
    "Sending a request example:"
   ]
  },
  {
   "cell_type": "code",
   "execution_count": 1,
   "metadata": {},
   "outputs": [
    {
     "name": "stdout",
     "output_type": "stream",
     "text": [
      "<class 'langchain_core.messages.ai.AIMessage'> \n",
      "\n",
      "content='Hello! How can I assist you today?' \n",
      "\n",
      "Response:  Hello! How can I assist you today?\n"
     ]
    }
   ],
   "source": [
    "from langchain_openai import ChatOpenAI\n",
    "llm = ChatOpenAI(temperature=0.0, model=\"gpt-3.5-turbo\")\n",
    "\n",
    "response = llm.invoke(\"This is a test. Greetings from the village!\")\n",
    "\n",
    "print(type(response), \"\\n\")\n",
    "print(response, \"\\n\");\n",
    "print(\"Response: \", response.content)\n",
    "\n",
    "# https://api.python.langchain.com/en/latest/chat_models/langchain_openai.chat_models.base.ChatOpenAI.html"
   ]
  }
 ],
 "metadata": {
  "kernelspec": {
   "display_name": "Python 3",
   "language": "python",
   "name": "python3"
  },
  "language_info": {
   "codemirror_mode": {
    "name": "ipython",
    "version": 3
   },
   "file_extension": ".py",
   "mimetype": "text/x-python",
   "name": "python",
   "nbconvert_exporter": "python",
   "pygments_lexer": "ipython3",
   "version": "3.12.2"
  }
 },
 "nbformat": 4,
 "nbformat_minor": 2
}
