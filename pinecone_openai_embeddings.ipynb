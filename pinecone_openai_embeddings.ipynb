{
 "cells": [
  {
   "cell_type": "markdown",
   "metadata": {},
   "source": [
    "# Semantic Search with Pinecone and OpenAI\n",
    "\n",
    "**What is semantic search?**\n",
    "- Semantic search is a data searching technique which uses the intent and contextual meaning behind a search query to deliver more relevant results.\n",
    "\n",
    "**Lexical search vs Semantic search**\n",
    "- Semantic search aims to understand the meaning behind user queries and provide contextually relevant results, while lexical search relies on literal matching of keywords.\n",
    "\n",
    "**Pinecone Indexes**\n",
    "- Indexes in Pinecone usually refer to the data structures used to efficiently organize and search through vectors of high-dimensional embeddings. It's basically where we're going to store our vectors to be retrieved later. \n",
    "\t- There's different types of indexes that can store our vectors. In this notebook, we're going to use the free tier or the starter index. **We can only create one starter index**.\n",
    "\t\n",
    "\tRead more: https://docs.pinecone.io/docs/indexes\n",
    "\n",
    "**Our workflow is as follows:**\n",
    "\n",
    "1. Embedding and indexing:\n",
    "\t- Generate vector embeddings of our text data using the OpenAI Embedding API.\n",
    "\t- Upload these vector embeddings into Pinecone.\n",
    "2. Searching:\n",
    "\t- Pass the query text through the OpenAI Embedding API once again.\n",
    "\t- Use the resulting vector embedding as a query and send it to Pinecone.\n",
    "\t- Receive semantically similar text in response, even if they don't share any keywords with the query.\n",
    "\n",
    "## Setup:\n",
    "\n",
    "We need to setup our environment and retrieve API keys for OpenAI and Pinecone\n",
    "1. Run this command in the terminal to install Pinecone, OpenAI, and python-dotenv using pip :\n",
    "\n",
    "    ``` bash\n",
    "    pip install pinecone-client openai python-dotenv\n",
    "    # This command will install Pinecone, OpenAI, and dotenv for python.\n",
    "    ```\n",
    "2. Run this command in the terminal to verify if the installation was successfull. \n",
    "\n",
    "    ``` bash\n",
    "    pip list\n",
    "    # This will list all the installed python packages, locate `pinecone-client`, `openai`, and `python-dotenv` packages to verify if they're successfully installed.\n",
    "    ```\n",
    "\n",
    "3. Create a `.env` file and get your API keys for OpenAI and Pinecone. \n",
    "\t- For OpenAI get your API key at https://platform.openai.com/api-keys.\n",
    "\t- For Pinecone get your API keys at https://app.pinecone.io/.\n",
    "\t- Paste the both API keys to the `.env` file.\n",
    "\n",
    "    ``` bash\n",
    "    # Your .env should  look like this. Replace the value of OPENAI_API_KEY and PINECONE_API_KEY with your actual OpenAI and Pinecone API key. \n",
    "    OPENAI_API_KEY=sk-###\n",
    "    PINECONE_API_KEY=###\n",
    "    ```"
   ]
  },
  {
   "cell_type": "markdown",
   "metadata": {},
   "source": [
    "## Let's get started\n",
    "\n",
    "Let's initialize our connection to the OpenAI embeddings:"
   ]
  },
  {
   "cell_type": "code",
   "execution_count": null,
   "metadata": {},
   "outputs": [],
   "source": [
    "import os\n",
    "from openai import OpenAI\n",
    "from dotenv import load_dotenv, find_dotenv\n",
    "\n",
    "# Load the .env\n",
    "load_dotenv(find_dotenv())\n",
    "\n",
    "client = OpenAI(api_key=os.getenv('OPENAI_API_KEY'))"
   ]
  },
  {
   "cell_type": "markdown",
   "metadata": {},
   "source": [
    "We can  create embeddings with OpenAI embedding model as follows:"
   ]
  },
  {
   "cell_type": "code",
   "execution_count": null,
   "metadata": {},
   "outputs": [],
   "source": [
    "MODEL = \"text-embedding-3-small\"\n",
    "\n",
    "response = client.embeddings.create(\n",
    "    input=\"Hello villagers\",\n",
    "    model=MODEL\n",
    ")\n",
    "\n",
    "# Print out the vectors\n",
    "print(response.data[0].embedding)"
   ]
  },
  {
   "cell_type": "markdown",
   "metadata": {},
   "source": [
    "\n",
    "\n",
    "### Creating an index using the web interface.\n",
    "\n",
    "\n",
    "We can create an index using the web interface. \n",
    "- Navigate to the Pinecone console. https://app.pinecone.io\n",
    "- Navigate to the index page. Click the 'Create index' button\n",
    "- Enter the name for your index, congfigure the dimension and metric. \n",
    "    - We're using the `text-embedding-3-small` embedding model. The dimension for the model is 1536, but using the `dimension` parameter in the OpenAI Embedding API, we can short it to 512. Read more about the OpenAPI embedding API parameters : https://platform.openai.com/docs/api-reference/embeddings/create\n",
    "    - The recommended metric to use is the cosine. Read more: https://platform.openai.com/docs/api-reference/embeddings/create#embeddings-create-dimensions\n",
    "- The capacity mode should default to starter for free tiers. \n",
    "\n",
    "### Creating an index programmatically\n",
    "\n",
    "Let's create the connection to the Pinecone Vector Database."
   ]
  },
  {
   "cell_type": "code",
   "execution_count": 33,
   "metadata": {},
   "outputs": [],
   "source": [
    "import os\n",
    "from pinecone import Pinecone, PodSpec\n",
    "from dotenv import load_dotenv, find_dotenv\n",
    "\n",
    "# Load the .env\n",
    "load_dotenv(find_dotenv())\n",
    "\n",
    "# Initialize Pinecone\n",
    "pc = Pinecone(api_key=os.getenv('PINECONE_API_KEY'))\n"
   ]
  },
  {
   "cell_type": "markdown",
   "metadata": {},
   "source": [
    "We can now create an index programmatically as follows:"
   ]
  },
  {
   "cell_type": "code",
   "execution_count": 49,
   "metadata": {},
   "outputs": [
    {
     "data": {
      "text/plain": [
       "{'dimension': 512,\n",
       " 'index_fullness': 0.0003,\n",
       " 'namespaces': {'': {'vector_count': 30}},\n",
       " 'total_vector_count': 30}"
      ]
     },
     "execution_count": 49,
     "metadata": {},
     "output_type": "execute_result"
    }
   ],
   "source": [
    "import time\n",
    "\n",
    "INDEX_NAME = \"semantic-search-openai-01\"\n",
    "DIMENSIONS = 512\n",
    "\n",
    "# Check if index exists, create it if not\n",
    "if INDEX_NAME not in pc.list_indexes().names():\n",
    "    pc.create_index(\n",
    "        name=INDEX_NAME,\n",
    "        dimension=DIMENSIONS,\n",
    "        metric=\"cosine\",\n",
    "        spec=PodSpec(environment=\"gcp-starter\")\n",
    "    )\n",
    "\t\n",
    "    # Wait for the index to be initialized\n",
    "    print(\"Waiting for index to be ready...\")\n",
    "    while not pc.describe_index(INDEX_NAME).status[\"ready\"]:\n",
    "        time.sleep(1)\n",
    "    print(\"Index is ready.\")\n",
    "    \n",
    "# Connect to the index\n",
    "index = pc.Index(INDEX_NAME)\n",
    "time.sleep(1)\n",
    "# View index stats\n",
    "index.describe_index_stats()"
   ]
  },
  {
   "cell_type": "markdown",
   "metadata": {},
   "source": [
    "## Populating the Index\n",
    "We can use the upsert operation to write records into an index namespace. If a record ID already exists, upsert overwrites the entire record. To update only part of a record, use the update operation instead. Read more: https://docs.pinecone.io/docs/upsert-data\n",
    "\n",
    "Let's create our simple dataset of programming questions."
   ]
  },
  {
   "cell_type": "code",
   "execution_count": 50,
   "metadata": {},
   "outputs": [],
   "source": [
    "# Define your custom dataset\n",
    "custom_dataset = [\n",
    "    \"What is a variable in programming?\",\n",
    "    \"How do you declare a function in Python?\",\n",
    "    \"Explain the concept of object-oriented programming.\",\n",
    "    \"What is the difference between a list and a tuple in Python?\",\n",
    "    \"What is recursion and when would you use it?\",\n",
    "    \"How do you handle errors in programming?\",\n",
    "    \"What is the purpose of version control systems like Git?\",\n",
    "    \"Explain the difference between compile-time and runtime errors.\",\n",
    "    \"What is the role of a constructor in object-oriented programming?\",\n",
    "    \"What are the main principles of clean code?\",\n",
    "    \"What is the difference between '==' and 'is' in Python?\",\n",
    "    \"How does inheritance work in object-oriented programming?\",\n",
    "    \"What are the benefits of using object-oriented programming?\",\n",
    "    \"How do you optimize code for performance?\",\n",
    "    \"What is the purpose of comments in code?\",\n",
    "    \"Explain the concept of Big O notation.\",\n",
    "    \"How do you debug a program when it's not working as expected?\",\n",
    "    \"What are the main data types in programming?\",\n",
    "    \"What is an API and how do you use it?\",\n",
    "    \"How do you handle concurrency in programming?\",\n",
    "    \"What is the purpose of unit testing?\",\n",
    "    \"Explain the difference between procedural and object-oriented programming.\",\n",
    "    \"What are the advantages of using libraries and frameworks in programming?\",\n",
    "    \"What are some common data structures and their use cases?\",\n",
    "    \"How do you manage dependencies in a project?\",\n",
    "    \"What is the role of a package manager in programming?\",\n",
    "    \"What is the purpose of a loop in programming?\",\n",
    "    \"How do you optimize database queries?\",\n",
    "    \"What is the role of indexing in databases?\",\n",
    "    \"What is a callback function and when would you use one?\",\n",
    "]"
   ]
  },
  {
   "cell_type": "code",
   "execution_count": 51,
   "metadata": {},
   "outputs": [
    {
     "name": "stderr",
     "output_type": "stream",
     "text": [
      "100%|██████████| 3/3 [00:10<00:00,  3.58s/it]\n"
     ]
    }
   ],
   "source": [
    "from tqdm.auto import tqdm\n",
    "\n",
    "# Initialize variables\n",
    "count = 0  # Used to create unique IDs\n",
    "batch_size = 10  # Process in batches of 10\n",
    "\n",
    "# Iterate over batches of data\n",
    "for i in tqdm(range(0, len(custom_dataset), batch_size)):\n",
    "    # Set end position of current batch\n",
    "    i_end = min(i + batch_size, len(custom_dataset))\n",
    "    \n",
    "    # Get batch of lines and IDs\n",
    "    lines_batch = custom_dataset[i: i_end]\n",
    "    ids_batch = [str(n) for n in range(i, i_end)]\n",
    "    \n",
    "    # Create embeddings for the batch\n",
    "    res = client.embeddings.create(input=lines_batch, model=MODEL, dimensions=DIMENSIONS)\n",
    "    embeds = [record.embedding for record in res.data]\n",
    "    \n",
    "    # Prepare metadata for the batch\n",
    "    meta = [{'text': line} for line in lines_batch]\n",
    "    \n",
    "    # Combine embeddings, IDs, and metadata for upsert\n",
    "    to_upsert = zip(ids_batch, embeds, meta)\n",
    "    \n",
    "    # Upsert the batch into Pinecone index\n",
    "    index.upsert(vectors=list(to_upsert))\n"
   ]
  },
  {
   "cell_type": "markdown",
   "metadata": {},
   "source": [
    "## Sending a query\n",
    "Now that we've populated our index. We're ready to start searching through it. Searching works a lot like the populating/indexing process. First, we type in a question or topic we're interested in. Then, we use the OpenAI embedding model to create the vector for the question or topic. "
   ]
  },
  {
   "cell_type": "code",
   "execution_count": 52,
   "metadata": {},
   "outputs": [],
   "source": [
    "query = \"What is object-oriented programming?\"\n",
    "\n",
    "VECTOR = client.embeddings.create(input=query, model=MODEL, dimensions=DIMENSIONS).data[0].embedding"
   ]
  },
  {
   "cell_type": "markdown",
   "metadata": {},
   "source": [
    "Once we have our vector ready, we use it to search through our organized data or index using the query function in Pinecone. Read more: https://docs.pinecone.io/docs/query-data. The response from Pinecone includes our original text in the metadata field, let's print out the `top_k` most similar questions and their respective similarity scores.\n",
    "\n",
    "Read more: https://docs.pinecone.io/reference/query"
   ]
  },
  {
   "cell_type": "code",
   "execution_count": 53,
   "metadata": {},
   "outputs": [
    {
     "name": "stdout",
     "output_type": "stream",
     "text": [
      "0.92: Explain the concept of object-oriented programming.\n",
      "0.81: What are the benefits of using object-oriented programming?\n",
      "0.74: Explain the difference between procedural and object-oriented programming.\n",
      "0.65: How does inheritance work in object-oriented programming?\n",
      "0.58: What is the role of a constructor in object-oriented programming?\n"
     ]
    }
   ],
   "source": [
    "res = index.query(vector=[VECTOR], top_k=5, include_metadata=True)\n",
    "for match in res['matches']:\n",
    "    print(f\"{match['score']:.2f}: {match['metadata']['text']}\")"
   ]
  },
  {
   "cell_type": "markdown",
   "metadata": {},
   "source": [
    "Great! Our semantic search pipline is able to identify and return the most semantically similar questions or topic from our vector database or index. "
   ]
  }
 ],
 "metadata": {
  "kernelspec": {
   "display_name": "Python 3",
   "language": "python",
   "name": "python3"
  },
  "language_info": {
   "codemirror_mode": {
    "name": "ipython",
    "version": 3
   },
   "file_extension": ".py",
   "mimetype": "text/x-python",
   "name": "python",
   "nbconvert_exporter": "python",
   "pygments_lexer": "ipython3",
   "version": "3.12.2"
  }
 },
 "nbformat": 4,
 "nbformat_minor": 2
}
