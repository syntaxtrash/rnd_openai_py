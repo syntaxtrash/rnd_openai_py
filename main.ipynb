{
 "cells": [
  {
   "cell_type": "markdown",
   "metadata": {},
   "source": [
    "### helper function\n",
    "This R&D documentation will use OpenAI's gpt-3.5-turbo model and the chat completions endpoint. \\\n",
    "This helper function will make it easier to use prompts and look at the generated outputs."
   ]
  },
  {
   "cell_type": "code",
   "execution_count": null,
   "metadata": {},
   "outputs": [],
   "source": [
    "import os\n",
    "from openai import OpenAI\n",
    "from dotenv import load_dotenv, find_dotenv\n",
    "\n",
    "load_dotenv(find_dotenv())\n",
    "client = OpenAI(api_key=os.getenv('OPENAI_API_KEY'))\n",
    "\n",
    "def get_completion(prompt, model=\"gpt-3.5-turbo\"):\n",
    "    messages = [{\"role\": \"user\", \"content\": prompt}]\n",
    "    response = client.chat.completions.create(\n",
    "        model=model,\n",
    "        messages=messages,\n",
    "        temperature=0\n",
    "    )\n",
    "    return response.choices[0].message.content\n"
   ]
  },
  {
   "cell_type": "markdown",
   "metadata": {},
   "source": [
    "### Strategy 1: Write clear and specific instructions\n",
    " - #### Tactic 1: Include details in your query to get more relevant results. Don’t confuse writing a clear prompt with writing a short prompt. clear != short\n",
    " \n",
    "Example:"
   ]
  },
  {
   "cell_type": "code",
   "execution_count": null,
   "metadata": {},
   "outputs": [],
   "source": [
    "tactic1_horrible_prompt = \"Write code to calculate the Fibonacci sequence.\"\n",
    "print(\"Prompt: \", tactic1_horrible_prompt)\n",
    "print(get_completion(tactic1_horrible_prompt))"
   ]
  },
  {
   "cell_type": "code",
   "execution_count": null,
   "metadata": {},
   "outputs": [],
   "source": [
    "\n",
    "tactic1_better_prompt = \"Write a TypeScript function to efficiently calculate the Fibonacci sequence. Comment the code liberally to explain what each piece does and why it's written that way.\"\n",
    "print(\"Prompt: \", tactic1_better_prompt)\n",
    "print(get_completion(tactic1_better_prompt))"
   ]
  },
  {
   "cell_type": "markdown",
   "metadata": {},
   "source": [
    "- ### Tactic 2: Use clear separators to show different parts of the input. Delimiters can be anything like: ```, \"\"\", < >, <tag> </tag>, :\n",
    "Example:"
   ]
  },
  {
   "cell_type": "code",
   "execution_count": null,
   "metadata": {},
   "outputs": [],
   "source": [
    "tactic2_text = f\"\"\"\n",
    "You should express what you want a model to do by \\\n",
    "providing instructions that are as clear and \\\n",
    "specific as you can possibly make them. \\\n",
    "This will guide the model towards the desired output, \\\n",
    "and reduce the chances of receiving irrelevant \\\n",
    "or incorrect responses. Don't confuse writing a \\\n",
    "clear prompt with writing a short prompt. \\\n",
    "In many cases, longer prompts provide more clarity \\\n",
    "and context for the model, which can lead to \\\n",
    "more detailed and relevant outputs.\n",
    "\"\"\"\n",
    "\n",
    "tactic2_prompt = f\"\"\"\n",
    "Summarize the text delimited by triple backticks \\\n",
    "into a single sentence.\n",
    "```{tactic2_text}```\n",
    "\"\"\"\n",
    "\n",
    "print(\"Prompt:\", tactic2_prompt)\n",
    "print(\"Response: \", get_completion(tactic2_prompt))"
   ]
  },
  {
   "cell_type": "markdown",
   "metadata": {},
   "source": [
    "- ### Tactic 3: Ask for a structured output.(JSON, HTML, XML, etc.)\n",
    "Example: "
   ]
  },
  {
   "cell_type": "code",
   "execution_count": null,
   "metadata": {},
   "outputs": [],
   "source": [
    "tactic3_prompt = \"Generate a list of three programming books along with their authors and genres. Provide them in JSON format with the following keys: book_id, title, author, genre.\"\n",
    "\n",
    "print(\"Prompt:\", tactic3_prompt)\n",
    "print(\"Response: \", get_completion(tactic3_prompt))"
   ]
  },
  {
   "cell_type": "markdown",
   "metadata": {},
   "source": [
    "- ### Tactic 4: Ask the model to check whether conditions are satisfied.\n",
    "Example: "
   ]
  },
  {
   "cell_type": "code",
   "execution_count": null,
   "metadata": {},
   "outputs": [],
   "source": [
    "tactic4_text = f\"\"\"\n",
    "Making a cup of tea is easy! First, you need to get some \\\n",
    "water boiling. While that's happening, \\\n",
    "grab a cup and put a tea bag in it. Once the water is \\\n",
    "hot enough, just pour it over the tea bag. \\\n",
    "Let it sit for a bit so the tea can steep. After a \\\n",
    "few minutes, take out the tea bag. If you \\\n",
    "like, you can add some sugar or milk to taste. \\\n",
    "And that's it! You've got yourself a delicious \\\n",
    "cup of tea to enjoy.\n",
    "\"\"\"\n",
    "\n",
    "tactic4_prompt = f\"\"\"\n",
    "You will be provided with text delimited by triple quotes. \\\n",
    "If it contains a sequence of instructions, \\\n",
    "re-write those instructions in the following format:\n",
    "\n",
    "Step 1 - ...\n",
    "Step 2 - …\n",
    "…\n",
    "Step N - …\n",
    "\n",
    "If the text does not contain a sequence of instructions, \\\n",
    "then simply write \\\"No steps provided.\\\"\n",
    "\n",
    "\\\"\\\"\\\"{tactic4_text}\\\"\\\"\\\"\n",
    "\"\"\"\n",
    "\n",
    "print(\"Prompt:\", tactic4_prompt)\n",
    "print(\"Response: \", get_completion(tactic4_prompt))"
   ]
  },
  {
   "cell_type": "markdown",
   "metadata": {},
   "source": [
    "- ### Tactic 5: Specify the steps required to complete a task\n",
    "Example:"
   ]
  },
  {
   "cell_type": "code",
   "execution_count": null,
   "metadata": {},
   "outputs": [],
   "source": [
    "tactic5_text = f\"\"\"\n",
    "In a quaint forest clearing, bathed in the golden hues of dawn, there resides a mischievous creature known far and wide as the quick brown fox. \\\n",
    "With nimble grace and boundless energy, this sly fox dances among the whispering trees, its russet fur catching the first light of day. \\\n",
    "Meanwhile, not far off, lazing in the shade of an ancient oak, lies the embodiment of leisure itself—the lazy dog. \\\n",
    "With a contented yawn and a stretch of its limbs, the dog watches as the fox approaches, knowing full well the inevitable spectacle about to unfold. \\\n",
    "And in a moment of whimsy, as if choreographed by fate, the quick brown fox leaps into action, its agile form effortlessly vaulting over the reclining dog, \\\n",
    "leaving in its wake a trail of bemused silence and the faint echo of paws padding softly against the earth.\n",
    "\"\"\"\n",
    "\n",
    "tactic5_prompt = f\"\"\"\n",
    "Use the following step-by-step instructions to respond to user inputs. \\\n",
    "Step 1 - The user will provide you with text in triple quotes. Summarize this text in one sentence with a prefix that says \"Summary: \". \\\n",
    "Step 2 - Translate the summary from Step 1 into Tagalog, with a prefix that says \"Translation: \".\n",
    "\n",
    "\n",
    "\\\"\\\"\\\"{tactic5_text}\\\"\\\"\\\"\n",
    "\"\"\"\n",
    "\n",
    "print(\"Prompt:\", tactic5_prompt)\n",
    "print(\"Response: \", get_completion(tactic5_prompt))"
   ]
  },
  {
   "cell_type": "markdown",
   "metadata": {},
   "source": [
    "- ### Tactic 6: Provide a small set of examples to guide its response for a specific task.(Few shot prompting)\n",
    "Example:"
   ]
  },
  {
   "cell_type": "code",
   "execution_count": null,
   "metadata": {},
   "outputs": [],
   "source": [
    "tactic6_prompt = f\"\"\"\n",
    "Your task is to answer in a consistent style.\n",
    "\n",
    "<child>: Teach me about patience.\n",
    "\n",
    "<grandparent>: The river that carves the deepest \\\n",
    "valley flows from a modest spring; the \\\n",
    "grandest symphony originates from a single note; \\\n",
    "the most intricate tapestry begins with a solitary thread.\n",
    "\n",
    "<child>: Teach me about resilience.\n",
    "\"\"\"\n",
    "\n",
    "print(\"Prompt:\", tactic6_prompt)\n",
    "print(\"Response: \", get_completion(tactic6_prompt))"
   ]
  },
  {
   "cell_type": "markdown",
   "metadata": {},
   "source": [
    "- ### Tactic 7: Ask the model to adopt a persona.\n",
    "Example:"
   ]
  },
  {
   "cell_type": "code",
   "execution_count": null,
   "metadata": {},
   "outputs": [],
   "source": [
    "tactic7_prompt = f\"\"\"\n",
    "When I ask for help to write something, you will reply with a document that contains at least one joke or playful comment in every paragraph.\n",
    "\"\"\"\n",
    "\n",
    "print(\"Prompt:\", tactic7_prompt)\n",
    "print(\"Response: \", get_completion(tactic7_prompt))"
   ]
  }
 ],
 "metadata": {
  "kernelspec": {
   "display_name": "Python 3",
   "language": "python",
   "name": "python3"
  },
  "language_info": {
   "codemirror_mode": {
    "name": "ipython",
    "version": 3
   },
   "file_extension": ".py",
   "mimetype": "text/x-python",
   "name": "python",
   "nbconvert_exporter": "python",
   "pygments_lexer": "ipython3",
   "version": "3.12.2"
  }
 },
 "nbformat": 4,
 "nbformat_minor": 2
}
