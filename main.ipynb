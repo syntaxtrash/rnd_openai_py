{
 "cells": [
  {
   "cell_type": "markdown",
   "metadata": {},
   "source": [
    "### helper function\n",
    "This R&D documentation will use OpenAI's gpt-3.5-turbo model and the chat completions endpoint. \\\n",
    "This helper function will make it easier to use prompts and look at the generated outputs.\\"
   ]
  },
  {
   "cell_type": "code",
   "execution_count": 7,
   "metadata": {},
   "outputs": [],
   "source": [
    "import os\n",
    "from openai import OpenAI\n",
    "from dotenv import load_dotenv, find_dotenv\n",
    "\n",
    "load_dotenv(find_dotenv())\n",
    "client = OpenAI(api_key=os.getenv('OPENAI_API_KEY'))\n",
    "\n",
    "def get_completion(prompt, model=\"gpt-3.5-turbo\"):\n",
    "    messages = [{\"role\": \"user\", \"content\": prompt}]\n",
    "    response = client.chat.completions.create(\n",
    "        model=model,\n",
    "        messages=messages,\n",
    "        temperature=0\n",
    "    )\n",
    "    return response.choices[0].message.content\n"
   ]
  },
  {
   "cell_type": "markdown",
   "metadata": {},
   "source": [
    "### Strategy 1: Write clear and specific instructions\n",
    " - #### Tactic 1: Include details in your query to get more relevant results. Don’t confuse writing a clear prompt with writing a short prompt. clear != short\n",
    " \n",
    "Horrible: _\"Write code to calculate the Fibonacci sequence.\"_ \\\n",
    "Better: _\"Write a TypeScript function to efficiently calculate the Fibonacci sequence. Comment the code liberally to explain what each piece does and why it's written that way.\"_\n",
    "\n",
    "\n",
    "\n",
    "\n"
   ]
  },
  {
   "cell_type": "code",
   "execution_count": 8,
   "metadata": {},
   "outputs": [
    {
     "name": "stdout",
     "output_type": "stream",
     "text": [
      "Here is a Python code to calculate the Fibonacci sequence up to a specified number of terms:\n",
      "\n",
      "```python\n",
      "def fibonacci(n):\n",
      "    fib_sequence = [0, 1]\n",
      "    \n",
      "    for i in range(2, n):\n",
      "        next_num = fib_sequence[i-1] + fib_sequence[i-2]\n",
      "        fib_sequence.append(next_num)\n",
      "    \n",
      "    return fib_sequence\n",
      "\n",
      "n = int(input(\"Enter the number of terms in the Fibonacci sequence: \"))\n",
      "fib_sequence = fibonacci(n)\n",
      "\n",
      "print(\"Fibonacci sequence up to\", n, \"terms:\")\n",
      "print(fib_sequence)\n",
      "```\n",
      "\n",
      "You can run this code and enter the number of terms you want in the Fibonacci sequence, and it will output the sequence up to that number of terms.\n"
     ]
    }
   ],
   "source": [
    "tactic1_horrible_prompt = \"Write code to calculate the Fibonacci sequence.\"\n",
    "print(get_completion(tactic1_horrible_prompt))"
   ]
  },
  {
   "cell_type": "code",
   "execution_count": 9,
   "metadata": {},
   "outputs": [
    {
     "name": "stdout",
     "output_type": "stream",
     "text": [
      "```typescript\n",
      "// Function to calculate the Fibonacci sequence up to a given number of terms\n",
      "function fibonacci(n: number): number[] {\n",
      "    // Initialize an array to store the Fibonacci sequence\n",
      "    const sequence: number[] = [];\n",
      "\n",
      "    // Base cases for Fibonacci sequence\n",
      "    sequence.push(0);\n",
      "    if (n > 0) {\n",
      "        sequence.push(1);\n",
      "    }\n",
      "\n",
      "    // Calculate the Fibonacci sequence for n terms\n",
      "    for (let i = 2; i < n; i++) {\n",
      "        // Add the previous two numbers in the sequence to get the next number\n",
      "        const nextNumber = sequence[i - 1] + sequence[i - 2];\n",
      "        sequence.push(nextNumber);\n",
      "    }\n",
      "\n",
      "    return sequence;\n",
      "}\n",
      "\n",
      "// Test the function with n = 10\n",
      "const result = fibonacci(10);\n",
      "console.log(result); // Output: [0, 1, 1, 2, 3, 5, 8, 13, 21, 34]\n",
      "```\n",
      "\n",
      "This TypeScript function efficiently calculates the Fibonacci sequence up to a given number of terms `n`. It initializes an array to store the sequence, adds the base cases (0 and 1) to the array, and then iterates to calculate the remaining terms by adding the previous two numbers in the sequence.\n",
      "\n",
      "The function returns an array containing the Fibonacci sequence up to `n` terms. In this example, the function is tested with `n = 10` and the result is printed to the console.\n"
     ]
    }
   ],
   "source": [
    "\n",
    "tactic1_better_prompt = \"Write a TypeScript function to efficiently calculate the Fibonacci sequence. Comment the code liberally to explain what each piece does and why it's written that way.\"\n",
    "print(get_completion(tactic1_better_prompt))"
   ]
  }
 ],
 "metadata": {
  "kernelspec": {
   "display_name": "Python 3",
   "language": "python",
   "name": "python3"
  },
  "language_info": {
   "codemirror_mode": {
    "name": "ipython",
    "version": 3
   },
   "file_extension": ".py",
   "mimetype": "text/x-python",
   "name": "python",
   "nbconvert_exporter": "python",
   "pygments_lexer": "ipython3",
   "version": "3.12.2"
  }
 },
 "nbformat": 4,
 "nbformat_minor": 2
}
