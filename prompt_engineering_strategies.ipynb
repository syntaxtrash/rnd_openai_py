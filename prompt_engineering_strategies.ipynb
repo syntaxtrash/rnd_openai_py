{
 "cells": [
  {
   "cell_type": "markdown",
   "metadata": {},
   "source": [
    "## Prompt Engineering Strategies\n",
    "\n",
    "Q: Why do we need prompt engineering strategies for GPT models? \\\n",
    "A: We need prompt engineering strategies to make sure GPT models work well and safely in different situations.\n",
    "\n",
    "Prompt engineering helps control what the model writes. GPT models write based on what they're told. Prompt engineering guides this process, making sure the model writes things that make sense and are right for the task..\n",
    "\n",
    "### Prompting Strategies:\n",
    " - Strategy 1: Write clear and specific instructions\n",
    " - Strategy  2: Give the model time to “think”\n",
    "\n",
    "These strategies and their tactics may change overtime, there could be more in the future, but these two strategies are generally good for every use case. \n",
    "\n",
    "\n",
    "### helper function\n",
    "This R&D documentation will use OpenAI's gpt-3.5-turbo model and the chat completions endpoint. \\\n",
    "This helper function will make it easier to use prompts and look at the generated outputs."
   ]
  },
  {
   "cell_type": "code",
   "execution_count": 2,
   "metadata": {},
   "outputs": [],
   "source": [
    "import os\n",
    "from openai import OpenAI\n",
    "from dotenv import load_dotenv, find_dotenv\n",
    "\n",
    "load_dotenv(find_dotenv())\n",
    "client = OpenAI(api_key=os.getenv('OPENAI_API_KEY'))\n",
    "\n",
    "def get_completion(prompt, model=\"gpt-3.5-turbo\"):\n",
    "    messages = [{\"role\": \"user\", \"content\": prompt}]\n",
    "    response = client.chat.completions.create(\n",
    "        model=model,\n",
    "        messages=messages,\n",
    "        temperature=0\n",
    "    )\n",
    "    return response.choices[0].message.content\n"
   ]
  },
  {
   "cell_type": "markdown",
   "metadata": {},
   "source": [
    "### Strategy 1: Write clear and specific instructions\n",
    " - #### Tactic 1: Include details in your query to get more relevant results. Don’t confuse writing a clear prompt with writing a short prompt. clear != short\n",
    " \n",
    "Example:"
   ]
  },
  {
   "cell_type": "code",
   "execution_count": 3,
   "metadata": {},
   "outputs": [
    {
     "name": "stdout",
     "output_type": "stream",
     "text": [
      "Prompt:  Write code to calculate the Fibonacci sequence.\n",
      "Here is a Python code to calculate the Fibonacci sequence up to a specified number of terms:\n",
      "\n",
      "```python\n",
      "def fibonacci(n):\n",
      "    fib_sequence = [0, 1]\n",
      "    \n",
      "    for i in range(2, n):\n",
      "        next_num = fib_sequence[i-1] + fib_sequence[i-2]\n",
      "        fib_sequence.append(next_num)\n",
      "    \n",
      "    return fib_sequence\n",
      "\n",
      "n = int(input(\"Enter the number of terms in the Fibonacci sequence: \"))\n",
      "fib_sequence = fibonacci(n)\n",
      "\n",
      "print(\"Fibonacci sequence up to\", n, \"terms:\")\n",
      "print(fib_sequence)\n",
      "```\n",
      "\n",
      "You can run this code and enter the number of terms you want in the Fibonacci sequence, and it will output the sequence up to that number of terms.\n"
     ]
    }
   ],
   "source": [
    "tactic1_horrible_prompt = \"Write code to calculate the Fibonacci sequence.\"\n",
    "print(\"Prompt: \", tactic1_horrible_prompt)\n",
    "print(get_completion(tactic1_horrible_prompt))"
   ]
  },
  {
   "cell_type": "code",
   "execution_count": 4,
   "metadata": {},
   "outputs": [
    {
     "name": "stdout",
     "output_type": "stream",
     "text": [
      "Prompt:  \n",
      "Write a TypeScript function to efficiently calculate the Fibonacci sequence. Comment the code liberally to explain what each piece does and why it's written that way.\n",
      "```typescript\n",
      "function fibonacci(n: number): number {\n",
      "    // Base cases: return 0 for n = 0 and 1 for n = 1\n",
      "    if (n <= 1) {\n",
      "        return n;\n",
      "    }\n",
      "\n",
      "    // Initialize variables to store the two previous Fibonacci numbers\n",
      "    let prev1 = 0;\n",
      "    let prev2 = 1;\n",
      "\n",
      "    // Initialize variable to store the current Fibonacci number\n",
      "    let current = 0;\n",
      "\n",
      "    // Loop through to calculate the Fibonacci number for n\n",
      "    for (let i = 2; i <= n; i++) {\n",
      "        // Calculate the current Fibonacci number by adding the two previous numbers\n",
      "        current = prev1 + prev2;\n",
      "\n",
      "        // Update the two previous numbers for the next iteration\n",
      "        prev1 = prev2;\n",
      "        prev2 = current;\n",
      "    }\n",
      "\n",
      "    // Return the Fibonacci number for n\n",
      "    return current;\n",
      "}\n",
      "\n",
      "// Test the function with n = 10\n",
      "console.log(fibonacci(10)); // Output: 55\n",
      "```\n",
      "\n",
      "This TypeScript function efficiently calculates the Fibonacci sequence up to the nth number. It uses an iterative approach to avoid the overhead of recursive calls. The function initializes variables to store the two previous Fibonacci numbers and then iterates through to calculate the Fibonacci number for n. The function returns the Fibonacci number for n.\n"
     ]
    }
   ],
   "source": [
    "\n",
    "strat1_tactic1_better_prompt = f\"\"\"\n",
    "Write a TypeScript function to efficiently calculate the Fibonacci sequence. \\\n",
    "Comment the code liberally to explain what each piece does and why it's written that way.\"\"\"\n",
    "\n",
    "print(\"Prompt: \", strat1_tactic1_better_prompt)\n",
    "print(get_completion(strat1_tactic1_better_prompt))"
   ]
  },
  {
   "cell_type": "markdown",
   "metadata": {},
   "source": [
    "- ### Tactic 2: Use clear separators to show different parts of the input. Delimiters can be anything like: ```, \"\"\", < >, <tag> </tag>, :\n",
    "Example:"
   ]
  },
  {
   "cell_type": "code",
   "execution_count": 5,
   "metadata": {},
   "outputs": [
    {
     "name": "stdout",
     "output_type": "stream",
     "text": [
      "Prompt: \n",
      "Summarize the text delimited by triple backticks into a single sentence.\n",
      "```\n",
      "You should express what you want a model to do by providing instructions that are as clear and specific as you can possibly make them. This will guide the model towards the desired output, and reduce the chances of receiving irrelevant or incorrect responses. Don't confuse writing a clear prompt with writing a short prompt. In many cases, longer prompts provide more clarity and context for the model, which can lead to more detailed and relevant outputs.\n",
      "```\n",
      "\n",
      "Response:  It is important to provide clear and specific instructions to guide a model towards the desired output and reduce the chances of receiving irrelevant or incorrect responses, even if it means writing a longer prompt for more clarity and context.\n"
     ]
    }
   ],
   "source": [
    "strat1_tactic2_text = f\"\"\"\n",
    "You should express what you want a model to do by \\\n",
    "providing instructions that are as clear and \\\n",
    "specific as you can possibly make them. \\\n",
    "This will guide the model towards the desired output, \\\n",
    "and reduce the chances of receiving irrelevant \\\n",
    "or incorrect responses. Don't confuse writing a \\\n",
    "clear prompt with writing a short prompt. \\\n",
    "In many cases, longer prompts provide more clarity \\\n",
    "and context for the model, which can lead to \\\n",
    "more detailed and relevant outputs.\n",
    "\"\"\"\n",
    "\n",
    "strat1_tactic2_prompt = f\"\"\"\n",
    "Summarize the text delimited by triple backticks \\\n",
    "into a single sentence.\n",
    "```{strat1_tactic2_text}```\n",
    "\"\"\"\n",
    "\n",
    "print(\"Prompt:\", strat1_tactic2_prompt)\n",
    "print(\"Response: \", get_completion(strat1_tactic2_prompt))"
   ]
  },
  {
   "cell_type": "markdown",
   "metadata": {},
   "source": [
    "- ### Tactic 3: Ask for a structured output.(JSON, HTML, XML, etc.)\n",
    "Example: "
   ]
  },
  {
   "cell_type": "code",
   "execution_count": 6,
   "metadata": {},
   "outputs": [
    {
     "name": "stdout",
     "output_type": "stream",
     "text": [
      "Prompt: \n",
      "Generate a list of three programming books along with their authors and genres. Provide them in JSON format with the following keys: book_id, title, author, genre.\n",
      "Response:  [\n",
      "    {\n",
      "        \"book_id\": 1,\n",
      "        \"title\": \"Clean Code: A Handbook of Agile Software Craftsmanship\",\n",
      "        \"author\": \"Robert C. Martin\",\n",
      "        \"genre\": \"Software Development\"\n",
      "    },\n",
      "    {\n",
      "        \"book_id\": 2,\n",
      "        \"title\": \"JavaScript: The Good Parts\",\n",
      "        \"author\": \"Douglas Crockford\",\n",
      "        \"genre\": \"Web Development\"\n",
      "    },\n",
      "    {\n",
      "        \"book_id\": 3,\n",
      "        \"title\": \"Python Crash Course\",\n",
      "        \"author\": \"Eric Matthes\",\n",
      "        \"genre\": \"Programming Languages\"\n",
      "    }\n",
      "]\n"
     ]
    }
   ],
   "source": [
    "strat1_tactic3_prompt = f\"\"\"\n",
    "Generate a list of three programming books along with their authors and genres. \\\n",
    "Provide them in JSON format with the following keys: book_id, title, author, genre.\"\"\"\n",
    "\n",
    "print(\"Prompt:\", strat1_tactic3_prompt)\n",
    "print(\"Response: \", get_completion(strat1_tactic3_prompt))"
   ]
  },
  {
   "cell_type": "markdown",
   "metadata": {},
   "source": [
    "- ### Tactic 4: Ask the model to check whether conditions are satisfied.\n",
    "Example: "
   ]
  },
  {
   "cell_type": "code",
   "execution_count": 7,
   "metadata": {},
   "outputs": [
    {
     "name": "stdout",
     "output_type": "stream",
     "text": [
      "Prompt: \n",
      "You will be provided with text delimited by triple quotes. If it contains a sequence of instructions, re-write those instructions in the following format:\n",
      "\n",
      "Step 1 - ...\n",
      "Step 2 - …\n",
      "…\n",
      "Step N - …\n",
      "\n",
      "If the text does not contain a sequence of instructions, then simply write \"No steps provided.\"\n",
      "\n",
      "```\n",
      "Making a cup of tea is easy! First, you need to get some water boiling. While that's happening, grab a cup and put a tea bag in it. Once the water is hot enough, just pour it over the tea bag. Let it sit for a bit so the tea can steep. After a few minutes, take out the tea bag. If you like, you can add some sugar or milk to taste. And that's it! You've got yourself a delicious cup of tea to enjoy.\n",
      "```\n",
      "\n",
      "Response:  Step 1 - Get some water boiling.\n",
      "Step 2 - Grab a cup and put a tea bag in it.\n",
      "Step 3 - Pour the hot water over the tea bag.\n",
      "Step 4 - Let the tea steep for a few minutes.\n",
      "Step 5 - Remove the tea bag.\n",
      "Step 6 - Add sugar or milk to taste.\n"
     ]
    }
   ],
   "source": [
    "strat1_tactic4_text = f\"\"\"\n",
    "Making a cup of tea is easy! First, you need to get some \\\n",
    "water boiling. While that's happening, \\\n",
    "grab a cup and put a tea bag in it. Once the water is \\\n",
    "hot enough, just pour it over the tea bag. \\\n",
    "Let it sit for a bit so the tea can steep. After a \\\n",
    "few minutes, take out the tea bag. If you \\\n",
    "like, you can add some sugar or milk to taste. \\\n",
    "And that's it! You've got yourself a delicious \\\n",
    "cup of tea to enjoy.\n",
    "\"\"\"\n",
    "\n",
    "strat1_tactic4_prompt = f\"\"\"\n",
    "You will be provided with text delimited by triple quotes. \\\n",
    "If it contains a sequence of instructions, \\\n",
    "re-write those instructions in the following format:\n",
    "\n",
    "Step 1 - ...\n",
    "Step 2 - …\n",
    "…\n",
    "Step N - …\n",
    "\n",
    "If the text does not contain a sequence of instructions, \\\n",
    "then simply write \\\"No steps provided.\\\"\n",
    "\n",
    "```{strat1_tactic4_text}```\n",
    "\"\"\"\n",
    "\n",
    "print(\"Prompt:\", strat1_tactic4_prompt)\n",
    "print(\"Response: \", get_completion(strat1_tactic4_prompt))"
   ]
  },
  {
   "cell_type": "markdown",
   "metadata": {},
   "source": [
    "- ### Tactic 5: Provide a small set of examples to guide its response for a specific task.(Few shot prompting)\n",
    "Example:"
   ]
  },
  {
   "cell_type": "code",
   "execution_count": 9,
   "metadata": {},
   "outputs": [
    {
     "name": "stdout",
     "output_type": "stream",
     "text": [
      "Prompt: \n",
      "Your task is to answer in a consistent style.\n",
      "\n",
      "<child>: Teach me about patience.\n",
      "\n",
      "<grandparent>: The river that carves the deepest valley flows from a modest spring; the grandest symphony originates from a single note; the most intricate tapestry begins with a solitary thread.\n",
      "\n",
      "<child>: Teach me about resilience.\n",
      "\n",
      "Response:  <grandparent>: Resilience is like a tree that withstands the fiercest storms, bending but never breaking. It is the ability to bounce back from adversity, to find strength in the face of challenges, and to keep moving forward no matter what obstacles come your way. Just like the tree, we must learn to bend but never break.\n"
     ]
    }
   ],
   "source": [
    "strat1_tactic5_prompt = f\"\"\"\n",
    "Your task is to answer in a consistent style.\n",
    "\n",
    "<child>: Teach me about patience.\n",
    "\n",
    "<grandparent>: The river that carves the deepest \\\n",
    "valley flows from a modest spring; the \\\n",
    "grandest symphony originates from a single note; \\\n",
    "the most intricate tapestry begins with a solitary thread.\n",
    "\n",
    "<child>: Teach me about resilience.\n",
    "\"\"\"\n",
    "\n",
    "print(\"Prompt:\", strat1_tactic5_prompt)\n",
    "print(\"Response: \", get_completion(strat1_tactic5_prompt))"
   ]
  },
  {
   "cell_type": "markdown",
   "metadata": {},
   "source": [
    "- ### Tactic 6: Ask the model to adopt a persona.\n",
    "Example:"
   ]
  },
  {
   "cell_type": "code",
   "execution_count": 10,
   "metadata": {},
   "outputs": [
    {
     "name": "stdout",
     "output_type": "stream",
     "text": [
      "Prompt: \n",
      "When I ask for help to write something, you will reply with a document that contains at least one joke or playful comment in every paragraph.\n",
      "\n",
      "Response:  I'm here to assist you with your writing needs! Whether you're working on a school assignment, a work project, or just need help crafting the perfect email, I've got your back. And don't worry, I promise not to use any fancy jargon or confusing language - unless you want me to sound like a pretentious robot, in which case, I can totally do that too.\n",
      "\n",
      "Let's dive right in and get started on your writing task. I'll help you brainstorm ideas, organize your thoughts, and craft a killer opening sentence that will grab your reader's attention faster than a squirrel chasing a nut. And if you're feeling stuck, just remember that even Shakespeare had writer's block sometimes. I mean, have you seen some of the puns in his plays? It's like he was trying to make us groan and laugh at the same time.\n",
      "\n",
      "As we work together on your writing project, feel free to ask me any questions or share any concerns you may have. I'm here to make your life easier, not add more stress to it. And hey, if you need a break from all this writing, we can always take a quick dance break. Just imagine us busting out some sweet moves to the sound of a funky beat - it'll be like a virtual party right in your own home office.\n",
      "\n",
      "Remember, writing doesn't have to be a daunting task. With a little bit of creativity, a sprinkle of humor, and a dash of confidence, you'll have that document finished in no time. And who knows, maybe you'll even impress your readers with your wit and charm. Just don't blame me if they start asking you to write all their emails for them.\n"
     ]
    }
   ],
   "source": [
    "strat1_tactic6_prompt = f\"\"\"\n",
    "When I ask for help to write something, you will reply with a document \\\n",
    "that contains at least one joke or playful comment in every paragraph.\n",
    "\"\"\"\n",
    "\n",
    "print(\"Prompt:\", strat1_tactic6_prompt)\n",
    "print(\"Response: \", get_completion(strat1_tactic6_prompt))"
   ]
  },
  {
   "cell_type": "markdown",
   "metadata": {},
   "source": [
    "### Strategy 2: Give the model time to think\n",
    "- ### Tactic 1: Specify the steps required to complete a task\n",
    "Example:"
   ]
  },
  {
   "cell_type": "code",
   "execution_count": 14,
   "metadata": {},
   "outputs": [
    {
     "name": "stdout",
     "output_type": "stream",
     "text": [
      "Prompt: \n",
      "Perform the following actions: \n",
      "1 - Summarize the following text delimited by triple backticks with 1 sentence.\n",
      "2 - Translate the summary into French.\n",
      "3 - List each name in the French summary.\n",
      "4 - Output a json object that contains the following keys: french_summary, num_names.\n",
      "\n",
      "Separate your answers with line breaks.\n",
      "\n",
      "Text:\n",
      "```\n",
      "In a charming village, siblings Jack and Jill set out on a quest to fetch water from a hilltop well. As they climbed, singing joyfully, misfortune struck—Jack tripped on a stone and tumbled down the hill, with Jill following suit. Though slightly battered, the pair returned home to comforting embraces. Despite the mishap, their adventurous spirits remained undimmed, and they continued exploring with delight.\n",
      "```\n",
      "\n",
      "Response: \n",
      " 1 - Jack and Jill go on a quest to fetch water from a well, but encounter misfortune on the way back home.\n",
      "\n",
      "2 - Jack et Jill partent en quête d'eau d'un puits, mais rencontrent un malheur sur le chemin du retour.\n",
      "\n",
      "3 - Jack, Jill\n",
      "\n",
      "4 - \n",
      "{\n",
      "  \"french_summary\": \"Jack et Jill partent en quête d'eau d'un puits, mais rencontrent un malheur sur le chemin du retour.\",\n",
      "  \"num_names\": 2\n",
      "}\n"
     ]
    }
   ],
   "source": [
    "strat2_tactic1_text = f\"\"\"\n",
    "In a charming village, siblings Jack and Jill set out on \\\n",
    "a quest to fetch water from a hilltop \\\n",
    "well. As they climbed, singing joyfully, misfortune \\\n",
    "struck—Jack tripped on a stone and tumbled \\\n",
    "down the hill, with Jill following suit. \\\n",
    "Though slightly battered, the pair returned home to \\\n",
    "comforting embraces. Despite the mishap, \\\n",
    "their adventurous spirits remained undimmed, and they \\\n",
    "continued exploring with delight.\n",
    "\"\"\"\n",
    "\n",
    "strat2_tactic1_prompt = f\"\"\"\n",
    "Perform the following actions: \n",
    "1 - Summarize the following text delimited by triple \\\n",
    "backticks with 1 sentence.\n",
    "2 - Translate the summary into French.\n",
    "3 - List each name in the French summary.\n",
    "4 - Output a json object that contains the following \\\n",
    "keys: french_summary, num_names.\n",
    "\n",
    "Separate your answers with line breaks.\n",
    "\n",
    "Text:\n",
    "```{strat2_tactic1_text}```\n",
    "\"\"\"\n",
    "print(\"Prompt:\", strat2_tactic1_prompt)\n",
    "print(\"Response: \", get_completion(strat2_tactic1_prompt))"
   ]
  },
  {
   "cell_type": "markdown",
   "metadata": {},
   "source": [
    "### -  Tactic 2: Instruct the model to work out its own solution before rushing to a conclusion\n",
    "Example:"
   ]
  },
  {
   "cell_type": "code",
   "execution_count": 34,
   "metadata": {},
   "outputs": [
    {
     "name": "stdout",
     "output_type": "stream",
     "text": [
      "Prompt: \n",
      "Perform the following actions: \n",
      "1. First work out your own solution to the problem. 2. Then compare your solution to my solution and evaluate if my solution is correct or not. Don't decide if my solution is correct until you have donethe problem yourself.\n",
      "```\n",
      "Problem Statement: I'm building a solar power installation and I need help working out the financials.\n",
      "- Land costs $100 / square foot\n",
      "- I can buy solar panels for $250 / square foot\n",
      "- I negotiated a contract for maintenance that will cost me a flat $100k per year, and an additional $10 / square foot\n",
      "What is the total cost for the first year of operations as a function of the number of square feet.\n",
      "\n",
      "My Solution: Let x be the size of the installation in square feet.\n",
      "1. Land cost: 100x\n",
      "2. Solar panel cost: 250x\n",
      "3. Maintenance cost: 100,000 + 100x\n",
      "Total cost: 100x + 250x + 100,000 + 100x = 450x + 100,000\n",
      "```\n",
      "\n",
      "Response:  Your solution is correct. The total cost for the first year of operations as a function of the number of square feet is 450x + 100,000.\n"
     ]
    }
   ],
   "source": [
    "strat2_tactic2_text = f\"\"\"\n",
    "Problem Statement: I'm building a solar power installation and \\\n",
    "I need help working out the financials.\n",
    "- Land costs $100 / square foot\n",
    "- I can buy solar panels for $250 / square foot\n",
    "- I negotiated a contract for maintenance that will cost me a flat \\\n",
    "$100k per year, and an additional $10 / square foot\n",
    "What is the total cost for the first year of operations as a function \\\n",
    "of the number of square feet.\n",
    "\n",
    "My Solution: Let x be the size of the installation in square feet.\n",
    "1. Land cost: 100x\n",
    "2. Solar panel cost: 250x\n",
    "3. Maintenance cost: 100,000 + 100x\n",
    "Total cost: 100x + 250x + 100,000 + 100x = 450x + 100,000\n",
    "\"\"\"\n",
    "\n",
    "strat2_tactic2_prompt = f\"\"\"\n",
    "Perform the following actions: \n",
    "1. First work out your own solution to the problem. \\\n",
    "2. Then compare your solution to my solution and \\\n",
    "evaluate if my solution is correct or not. Don't \\\n",
    "decide if my solution is correct until you have done\\\n",
    "the problem yourself.\n",
    "```{strat2_tactic2_text}```\n",
    "\"\"\"\n",
    "\n",
    "print(\"Prompt:\", strat2_tactic2_prompt)\n",
    "print(\"Response: \", get_completion(strat2_tactic2_prompt))"
   ]
  },
  {
   "cell_type": "markdown",
   "metadata": {},
   "source": [
    "### - Tactic 3: Use inner monologue or a sequence of queries to hide the model's reasoning process\n",
    "\n",
    "Tactic 2 shows that sometimes it's important for the computer to think deeply about a problem before giving a direct answer. But in some cases, it's not good for the computer to show all its thinking to the user.\n",
    "\n",
    "For instance, in educational apps, we might want students to figure out answers themselves, but if the computer shows how it got the answer, it could give away the solution.\n",
    "\n",
    "To solve this, there's a tactic called \"inner monologue.\" It means the computer organizes its hidden thoughts in a way that's easy to understand. Then, before showing the answer to the user, it only reveals part of its thinking.\n",
    "\n",
    "Example:"
   ]
  },
  {
   "cell_type": "code",
   "execution_count": 33,
   "metadata": {},
   "outputs": [
    {
     "name": "stdout",
     "output_type": "stream",
     "text": [
      "Prompt: \n",
      "You are a helpful teacher. Your goal is to guide me effectively without giving away the answer.\n",
      "Perform the following actions: \n",
      "1. Think about the problem yourself first.\n",
      "2. Compare the my solution with your own.\n",
      "3. If the my solution is incorrect, come up with a hint to help.\n",
      "4. Offer the hint to me. \n",
      "\n",
      "```\n",
      "Problem Statement: I'm building a solar power installation and I need help working out the financials.\n",
      "- Land costs $100 / square foot\n",
      "- I can buy solar panels for $250 / square foot\n",
      "- I negotiated a contract for maintenance that will cost me a flat $100k per year, and an additional $10 / square foot\n",
      "What is the total cost for the first year of operations as a function of the number of square feet.\n",
      "\n",
      "My Solution: Let x be the size of the installation in square feet.\n",
      "1. Land cost: 100x\n",
      "2. Solar panel cost: 250x\n",
      "3. Maintenance cost: 100,000 + 100x\n",
      "Total cost: 100x + 250x + 100,000 + 100x = 450x + 100,000\n",
      "```\n",
      "\n",
      "Response:  Your approach is on the right track, but there seems to be a small mistake in your calculation. Take a closer look at how you calculated the total cost based on the individual costs you provided. See if you can identify where the error might be.\n"
     ]
    }
   ],
   "source": [
    "strat2_tactic3_prompt = f\"\"\"\n",
    "You are a helpful teacher. Your goal is to guide me effectively without giving away the answer.\n",
    "Perform the following actions: \n",
    "1. Think about the problem yourself first.\n",
    "2. Compare the my solution with your own.\n",
    "3. If the my solution is incorrect, come up with a hint to help.\n",
    "4. Offer the hint to me. \n",
    "\n",
    "```{strat2_tactic2_text}```\n",
    "\"\"\"\n",
    "\n",
    "print(\"Prompt:\", strat2_tactic3_prompt)\n",
    "print(\"Response: \", get_completion(strat2_tactic3_prompt))\n",
    "\n"
   ]
  }
 ],
 "metadata": {
  "kernelspec": {
   "display_name": "Python 3",
   "language": "python",
   "name": "python3"
  },
  "language_info": {
   "codemirror_mode": {
    "name": "ipython",
    "version": 3
   },
   "file_extension": ".py",
   "mimetype": "text/x-python",
   "name": "python",
   "nbconvert_exporter": "python",
   "pygments_lexer": "ipython3",
   "version": "3.12.2"
  }
 },
 "nbformat": 4,
 "nbformat_minor": 2
}
