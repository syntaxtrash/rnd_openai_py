{
 "cells": [
  {
   "cell_type": "markdown",
   "metadata": {},
   "source": [
    "## Prompt Engineering Strategies\n",
    "\n",
    "Q: Why do we need prompt engineering strategies for GPT models? \\\n",
    "A: We need prompt engineering strategies to make sure GPT models work well and safely in different situations.\n",
    "\n",
    "Prompt engineering helps control what the model writes. GPT models write based on what they're told. Prompt engineering guides this process, making sure the model writes things that make sense and are right for the task..\n",
    "\n",
    "### Prompting Strategies:\n",
    " - Strategy 1: Write clear and specific instructions\n",
    " - Strategy  2: Give the model time to “think”\n",
    "\n",
    "These strategies and their tactics may change overtime, there could be more in the future, but these two strategies are generally good for every use case. \n",
    "\n",
    "\n",
    "### helper function\n",
    "This R&D documentation will use OpenAI's gpt-3.5-turbo model and the chat completions endpoint. \\\n",
    "This helper function will make it easier to use prompts and look at the generated outputs."
   ]
  },
  {
   "cell_type": "code",
   "execution_count": 20,
   "metadata": {},
   "outputs": [],
   "source": [
    "import os\n",
    "from openai import OpenAI\n",
    "from dotenv import load_dotenv, find_dotenv\n",
    "\n",
    "load_dotenv(find_dotenv())\n",
    "client = OpenAI(api_key=os.getenv('OPENAI_API_KEY'))\n",
    "\n",
    "def get_completion(prompt, model=\"gpt-3.5-turbo\"):\n",
    "    messages = [{\"role\": \"user\", \"content\": prompt}]\n",
    "    response = client.chat.completions.create(\n",
    "        model=model,\n",
    "        messages=messages,\n",
    "        temperature=0\n",
    "    )\n",
    "    return response.choices[0].message.content\n"
   ]
  },
  {
   "cell_type": "markdown",
   "metadata": {},
   "source": [
    "### Strategy 1: Write clear and specific instructions\n",
    " - #### Tactic 1: Include details in your query to get more relevant results. Don’t confuse writing a clear prompt with writing a short prompt. clear != short\n",
    " \n",
    "Example:"
   ]
  },
  {
   "cell_type": "code",
   "execution_count": 21,
   "metadata": {},
   "outputs": [
    {
     "name": "stdout",
     "output_type": "stream",
     "text": [
      "Prompt:  Write code to calculate the Fibonacci sequence.\n",
      "Here is a simple Python code to calculate the Fibonacci sequence:\n",
      "\n",
      "```python\n",
      "def fibonacci(n):\n",
      "    fib_sequence = [0, 1]\n",
      "    for i in range(2, n):\n",
      "        next_num = fib_sequence[i-1] + fib_sequence[i-2]\n",
      "        fib_sequence.append(next_num)\n",
      "    return fib_sequence\n",
      "\n",
      "n = int(input(\"Enter the number of terms in the Fibonacci sequence: \"))\n",
      "fib_sequence = fibonacci(n)\n",
      "print(fib_sequence)\n",
      "```\n",
      "\n",
      "You can run this code and enter the number of terms in the Fibonacci sequence that you want to calculate. The code will then print out the Fibonacci sequence up to that number of terms.\n"
     ]
    }
   ],
   "source": [
    "tactic1_horrible_prompt = \"Write code to calculate the Fibonacci sequence.\"\n",
    "print(\"Prompt: \", tactic1_horrible_prompt)\n",
    "print(get_completion(tactic1_horrible_prompt))"
   ]
  },
  {
   "cell_type": "code",
   "execution_count": 22,
   "metadata": {},
   "outputs": [
    {
     "name": "stdout",
     "output_type": "stream",
     "text": [
      "Prompt:  \n",
      "Write a TypeScript function to efficiently calculate the Fibonacci sequence. Comment the code liberally to explain what each piece does and why it's written that way.\n",
      "```typescript\n",
      "function fibonacci(n: number): number {\n",
      "    // Base cases: return 0 for n = 0 and 1 for n = 1\n",
      "    if (n <= 1) {\n",
      "        return n;\n",
      "    }\n",
      "\n",
      "    // Initialize variables to store the two previous Fibonacci numbers\n",
      "    let prev1 = 0;\n",
      "    let prev2 = 1;\n",
      "\n",
      "    // Initialize variable to store the current Fibonacci number\n",
      "    let current = 0;\n",
      "\n",
      "    // Loop through to calculate the Fibonacci number for n\n",
      "    for (let i = 2; i <= n; i++) {\n",
      "        // Calculate the current Fibonacci number by adding the two previous numbers\n",
      "        current = prev1 + prev2;\n",
      "\n",
      "        // Update the two previous numbers for the next iteration\n",
      "        prev1 = prev2;\n",
      "        prev2 = current;\n",
      "    }\n",
      "\n",
      "    // Return the final Fibonacci number for n\n",
      "    return current;\n",
      "}\n",
      "\n",
      "// Test the function with n = 10\n",
      "console.log(fibonacci(10)); // Output: 55\n",
      "```\n",
      "\n",
      "This TypeScript function efficiently calculates the Fibonacci sequence up to the nth number. It uses an iterative approach to avoid the performance issues associated with recursive solutions. The function initializes variables to store the two previous Fibonacci numbers and then iterates through a loop to calculate the current Fibonacci number by adding the two previous numbers. Finally, it returns the final Fibonacci number for n.\n",
      "\n",
      "The function is tested with n = 10, and the output is logged to the console.\n"
     ]
    }
   ],
   "source": [
    "\n",
    "tactic1_better_prompt = f\"\"\"\n",
    "Write a TypeScript function to efficiently calculate the Fibonacci sequence. \\\n",
    "Comment the code liberally to explain what each piece does and why it's written that way.\"\"\"\n",
    "\n",
    "print(\"Prompt: \", tactic1_better_prompt)\n",
    "print(get_completion(tactic1_better_prompt))"
   ]
  },
  {
   "cell_type": "markdown",
   "metadata": {},
   "source": [
    "- ### Tactic 2: Use clear separators to show different parts of the input. Delimiters can be anything like: ```, \"\"\", < >, <tag> </tag>, :\n",
    "Example:"
   ]
  },
  {
   "cell_type": "code",
   "execution_count": 23,
   "metadata": {},
   "outputs": [
    {
     "name": "stdout",
     "output_type": "stream",
     "text": [
      "Prompt: \n",
      "Summarize the text delimited by triple backticks into a single sentence.\n",
      "```\n",
      "You should express what you want a model to do by providing instructions that are as clear and specific as you can possibly make them. This will guide the model towards the desired output, and reduce the chances of receiving irrelevant or incorrect responses. Don't confuse writing a clear prompt with writing a short prompt. In many cases, longer prompts provide more clarity and context for the model, which can lead to more detailed and relevant outputs.\n",
      "```\n",
      "\n",
      "Response:  It is important to provide clear and specific instructions to guide a model towards the desired output and reduce the chances of receiving irrelevant or incorrect responses, even if it means writing a longer prompt for more clarity and context.\n"
     ]
    }
   ],
   "source": [
    "tactic2_text = f\"\"\"\n",
    "You should express what you want a model to do by \\\n",
    "providing instructions that are as clear and \\\n",
    "specific as you can possibly make them. \\\n",
    "This will guide the model towards the desired output, \\\n",
    "and reduce the chances of receiving irrelevant \\\n",
    "or incorrect responses. Don't confuse writing a \\\n",
    "clear prompt with writing a short prompt. \\\n",
    "In many cases, longer prompts provide more clarity \\\n",
    "and context for the model, which can lead to \\\n",
    "more detailed and relevant outputs.\n",
    "\"\"\"\n",
    "\n",
    "tactic2_prompt = f\"\"\"\n",
    "Summarize the text delimited by triple backticks \\\n",
    "into a single sentence.\n",
    "```{tactic2_text}```\n",
    "\"\"\"\n",
    "\n",
    "print(\"Prompt:\", tactic2_prompt)\n",
    "print(\"Response: \", get_completion(tactic2_prompt))"
   ]
  },
  {
   "cell_type": "markdown",
   "metadata": {},
   "source": [
    "- ### Tactic 3: Ask for a structured output.(JSON, HTML, XML, etc.)\n",
    "Example: "
   ]
  },
  {
   "cell_type": "code",
   "execution_count": 24,
   "metadata": {},
   "outputs": [
    {
     "name": "stdout",
     "output_type": "stream",
     "text": [
      "Prompt: \n",
      "Generate a list of three programming books along with their authors and genres. Provide them in JSON format with the following keys: book_id, title, author, genre.\n",
      "Response:  [\n",
      "    {\n",
      "        \"book_id\": 1,\n",
      "        \"title\": \"Clean Code: A Handbook of Agile Software Craftsmanship\",\n",
      "        \"author\": \"Robert C. Martin\",\n",
      "        \"genre\": \"Software Development\"\n",
      "    },\n",
      "    {\n",
      "        \"book_id\": 2,\n",
      "        \"title\": \"JavaScript: The Good Parts\",\n",
      "        \"author\": \"Douglas Crockford\",\n",
      "        \"genre\": \"Web Development\"\n",
      "    },\n",
      "    {\n",
      "        \"book_id\": 3,\n",
      "        \"title\": \"Python Crash Course\",\n",
      "        \"author\": \"Eric Matthes\",\n",
      "        \"genre\": \"Programming Languages\"\n",
      "    }\n",
      "]\n"
     ]
    }
   ],
   "source": [
    "tactic3_prompt = f\"\"\"\n",
    "Generate a list of three programming books along with their authors and genres. \\\n",
    "Provide them in JSON format with the following keys: book_id, title, author, genre.\"\"\"\n",
    "\n",
    "print(\"Prompt:\", tactic3_prompt)\n",
    "print(\"Response: \", get_completion(tactic3_prompt))"
   ]
  },
  {
   "cell_type": "markdown",
   "metadata": {},
   "source": [
    "- ### Tactic 4: Ask the model to check whether conditions are satisfied.\n",
    "Example: "
   ]
  },
  {
   "cell_type": "code",
   "execution_count": 25,
   "metadata": {},
   "outputs": [
    {
     "name": "stdout",
     "output_type": "stream",
     "text": [
      "Prompt: \n",
      "You will be provided with text delimited by triple quotes. If it contains a sequence of instructions, re-write those instructions in the following format:\n",
      "\n",
      "Step 1 - ...\n",
      "Step 2 - …\n",
      "…\n",
      "Step N - …\n",
      "\n",
      "If the text does not contain a sequence of instructions, then simply write \"No steps provided.\"\n",
      "\n",
      "```\n",
      "Making a cup of tea is easy! First, you need to get some water boiling. While that's happening, grab a cup and put a tea bag in it. Once the water is hot enough, just pour it over the tea bag. Let it sit for a bit so the tea can steep. After a few minutes, take out the tea bag. If you like, you can add some sugar or milk to taste. And that's it! You've got yourself a delicious cup of tea to enjoy.\n",
      "```\n",
      "\n",
      "Response:  Step 1 - Get some water boiling.\n",
      "Step 2 - Grab a cup and put a tea bag in it.\n",
      "Step 3 - Pour the hot water over the tea bag.\n",
      "Step 4 - Let the tea steep for a bit.\n",
      "Step 5 - Remove the tea bag.\n",
      "Step 6 - Add sugar or milk to taste.\n",
      "Step 7 - Enjoy your delicious cup of tea.\n"
     ]
    }
   ],
   "source": [
    "tactic4_text = f\"\"\"\n",
    "Making a cup of tea is easy! First, you need to get some \\\n",
    "water boiling. While that's happening, \\\n",
    "grab a cup and put a tea bag in it. Once the water is \\\n",
    "hot enough, just pour it over the tea bag. \\\n",
    "Let it sit for a bit so the tea can steep. After a \\\n",
    "few minutes, take out the tea bag. If you \\\n",
    "like, you can add some sugar or milk to taste. \\\n",
    "And that's it! You've got yourself a delicious \\\n",
    "cup of tea to enjoy.\n",
    "\"\"\"\n",
    "\n",
    "tactic4_prompt = f\"\"\"\n",
    "You will be provided with text delimited by triple quotes. \\\n",
    "If it contains a sequence of instructions, \\\n",
    "re-write those instructions in the following format:\n",
    "\n",
    "Step 1 - ...\n",
    "Step 2 - …\n",
    "…\n",
    "Step N - …\n",
    "\n",
    "If the text does not contain a sequence of instructions, \\\n",
    "then simply write \\\"No steps provided.\\\"\n",
    "\n",
    "```{tactic4_text}```\n",
    "\"\"\"\n",
    "\n",
    "print(\"Prompt:\", tactic4_prompt)\n",
    "print(\"Response: \", get_completion(tactic4_prompt))"
   ]
  },
  {
   "cell_type": "markdown",
   "metadata": {},
   "source": [
    "- ### Tactic 5: Specify the steps required to complete a task\n",
    "Example:"
   ]
  },
  {
   "cell_type": "code",
   "execution_count": 26,
   "metadata": {},
   "outputs": [
    {
     "name": "stdout",
     "output_type": "stream",
     "text": [
      "Prompt: \n",
      "Use the following step-by-step instructions to respond to user inputs. Step 1 - The user will provide you with text in triple quotes. Summarize this text in one sentence with a prefix that says \"Summary: \". Step 2 - Translate the summary from Step 1 into Tagalog, with a prefix that says \"Translation: \".\n",
      "\n",
      "\n",
      "```\n",
      "In a quaint forest clearing, bathed in the golden hues of dawn, there resides a mischievous creature known far and wide as the quick brown fox.With nimble grace and boundless energy, this sly fox dances among the whispering trees, its russet fur catching the first light of day. Meanwhile, not far off, lazing in the shade of an ancient oak, lies the embodiment of leisure itself—the lazy dog. With a contented yawn and a stretch of its limbs, the dog watches as the fox approaches, knowing full well the inevitable spectacle about to unfold. And in a moment of whimsy, as if choreographed by fate, the quick brown fox leaps into action, its agile form effortlessly vaulting over the reclining dog, leaving in its wake a trail of bemused silence and the faint echo of paws padding softly against the earth.\n",
      "```\n",
      "\n",
      "Response:  Summary: In a forest clearing, a quick brown fox dances gracefully while a lazy dog watches in amusement.\n",
      "\n",
      "Translation: Sa isang maliliit na kagubatan, isang mabilis na kayumangging ahas ay sumasayaw nang maganda habang isang tamad na aso ay nanonood nang may kasiyahan.\n"
     ]
    }
   ],
   "source": [
    "tactic5_text = f\"\"\"\n",
    "In a quaint forest clearing, bathed in the golden hues of dawn, there resides a mischievous \\\n",
    "creature known far and wide as the quick brown fox.With nimble grace and boundless energy, \\\n",
    "this sly fox dances among the whispering trees, its russet fur catching the first light of day. \\\n",
    "Meanwhile, not far off, lazing in the shade of an ancient oak, lies the embodiment of leisure \\\n",
    "itself—the lazy dog. With a contented yawn and a stretch of its limbs, the dog watches as the \\\n",
    "fox approaches, knowing full well the inevitable spectacle about to unfold. And in a moment of \\\n",
    "whimsy, as if choreographed by fate, the quick brown fox leaps into action, its agile form \\\n",
    "effortlessly vaulting over the reclining dog, leaving in its wake a trail of bemused silence \\\n",
    "and the faint echo of paws padding softly against the earth.\n",
    "\"\"\"\n",
    "\n",
    "tactic5_prompt = f\"\"\"\n",
    "Use the following step-by-step instructions to respond to user inputs. \\\n",
    "Step 1 - The user will provide you with text in triple quotes. \\\n",
    "Summarize this text in one sentence with a prefix that says \"Summary: \". \\\n",
    "Step 2 - Translate the summary from Step 1 into Tagalog, with a prefix that says \"Translation: \".\n",
    "\n",
    "\n",
    "```{tactic5_text}```\n",
    "\"\"\"\n",
    "\n",
    "print(\"Prompt:\", tactic5_prompt)\n",
    "print(\"Response: \", get_completion(tactic5_prompt))"
   ]
  },
  {
   "cell_type": "markdown",
   "metadata": {},
   "source": [
    "- ### Tactic 6: Provide a small set of examples to guide its response for a specific task.(Few shot prompting)\n",
    "Example:"
   ]
  },
  {
   "cell_type": "code",
   "execution_count": 27,
   "metadata": {},
   "outputs": [
    {
     "name": "stdout",
     "output_type": "stream",
     "text": [
      "Prompt: \n",
      "Your task is to answer in a consistent style.\n",
      "\n",
      "<child>: Teach me about patience.\n",
      "\n",
      "<grandparent>: The river that carves the deepest valley flows from a modest spring; the grandest symphony originates from a single note; the most intricate tapestry begins with a solitary thread.\n",
      "\n",
      "<child>: Teach me about resilience.\n",
      "\n",
      "Response:  <grandparent>: Resilience is like a tree that withstands the fiercest storms, bending but never breaking. It is the ability to bounce back from adversity, to find strength in the face of challenges, and to keep moving forward no matter what obstacles come your way. Just like the tree, we must learn to bend but never break.\n"
     ]
    }
   ],
   "source": [
    "tactic6_prompt = f\"\"\"\n",
    "Your task is to answer in a consistent style.\n",
    "\n",
    "<child>: Teach me about patience.\n",
    "\n",
    "<grandparent>: The river that carves the deepest \\\n",
    "valley flows from a modest spring; the \\\n",
    "grandest symphony originates from a single note; \\\n",
    "the most intricate tapestry begins with a solitary thread.\n",
    "\n",
    "<child>: Teach me about resilience.\n",
    "\"\"\"\n",
    "\n",
    "print(\"Prompt:\", tactic6_prompt)\n",
    "print(\"Response: \", get_completion(tactic6_prompt))"
   ]
  },
  {
   "cell_type": "markdown",
   "metadata": {},
   "source": [
    "- ### Tactic 7: Ask the model to adopt a persona.\n",
    "Example:"
   ]
  },
  {
   "cell_type": "code",
   "execution_count": 28,
   "metadata": {},
   "outputs": [
    {
     "name": "stdout",
     "output_type": "stream",
     "text": [
      "Prompt: \n",
      "When I ask for help to write something, you will reply with a document that contains at least one joke or playful comment in every paragraph.\n",
      "\n",
      "Response:  I'm happy to help you with your writing! Just remember, the key to a successful document is to make sure it's as entertaining as a clown riding a unicycle while juggling flaming torches.\n",
      "\n",
      "First things first, let's start by brainstorming some ideas. Remember, creativity is like a muscle - the more you exercise it, the stronger it gets. Just don't strain it too much, we don't want any creative muscle cramps.\n",
      "\n",
      "Now that we have some ideas, it's time to start writing. Remember, a well-crafted sentence is like a fine wine - it gets better with age. Just make sure not to spill any on your keyboard, we don't want any sticky keys.\n",
      "\n",
      "As you continue writing, don't be afraid to let your personality shine through. After all, a document without personality is like a sandwich without any filling - bland and unappetizing. So go ahead, sprinkle in some humor and wit like confetti at a party.\n",
      "\n",
      "And finally, don't forget to proofread your work before you hit send. Typos and grammatical errors are like party crashers - they can ruin the whole vibe. So double-check everything, and make sure your document is as polished as a diamond in a goat's mouth.\n",
      "\n",
      "I hope these tips help you with your writing! Remember, writing should be fun and enjoyable, like a rollercoaster ride through a theme park. So buckle up, hold on tight, and enjoy the wild ride of creating your document.\n"
     ]
    }
   ],
   "source": [
    "tactic7_prompt = f\"\"\"\n",
    "When I ask for help to write something, you will reply with a document \\\n",
    "that contains at least one joke or playful comment in every paragraph.\n",
    "\"\"\"\n",
    "\n",
    "print(\"Prompt:\", tactic7_prompt)\n",
    "print(\"Response: \", get_completion(tactic7_prompt))"
   ]
  }
 ],
 "metadata": {
  "kernelspec": {
   "display_name": "Python 3",
   "language": "python",
   "name": "python3"
  },
  "language_info": {
   "codemirror_mode": {
    "name": "ipython",
    "version": 3
   },
   "file_extension": ".py",
   "mimetype": "text/x-python",
   "name": "python",
   "nbconvert_exporter": "python",
   "pygments_lexer": "ipython3",
   "version": "3.12.2"
  }
 },
 "nbformat": 4,
 "nbformat_minor": 2
}
