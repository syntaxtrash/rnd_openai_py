{
 "cells": [
  {
   "cell_type": "markdown",
   "metadata": {},
   "source": [
    "# Chain\n",
    "Chains refer to sequences of calls/functions—whether to an LLM, a tool, or a data preprocessing step. \n",
    "\n",
    "There are a few types of Chains. Read more: https://python.langchain.com/docs/modules/chains/\n",
    "\n",
    "\n",
    "In this notebook we'll use `LLMChain`. Read more: https://api.python.langchain.com/en/latest/chains/langchain.chains.llm.LLMChain.html"
   ]
  },
  {
   "cell_type": "markdown",
   "metadata": {},
   "source": [
    "### What is LLMChain?\n",
    "LLMChain is the most basic and essential chain for large language models (LLM). It utilizes a prompt template to format user input, feeds it into the model, and then retrieves and parses the response from the LLM."
   ]
  },
  {
   "cell_type": "markdown",
   "metadata": {},
   "source": [
    "Let's initialize our connection to OpenAI with LangChain:"
   ]
  },
  {
   "cell_type": "code",
   "execution_count": 3,
   "metadata": {},
   "outputs": [],
   "source": [
    "from langchain_openai import ChatOpenAI\n",
    "\n",
    "llm = ChatOpenAI(temperature=0.0, model=\"gpt-3.5-turbo\")"
   ]
  },
  {
   "cell_type": "markdown",
   "metadata": {},
   "source": []
  },
  {
   "cell_type": "markdown",
   "metadata": {},
   "source": [
    "Create a prompt template."
   ]
  },
  {
   "cell_type": "code",
   "execution_count": 56,
   "metadata": {},
   "outputs": [],
   "source": [
    "from langchain.prompts import ChatPromptTemplate\n",
    "\n",
    "# Create the string template\n",
    "string_template = \"\"\"Translate the text \\\n",
    "that is delimited by triple backticks \n",
    "into a style that is {style}.\n",
    "text: ```{translate}```\n",
    "\"\"\"\n",
    "\n",
    "# Create a chat prompt template from a string template\n",
    "prompt_template = ChatPromptTemplate.from_template(string_template)"
   ]
  },
  {
   "cell_type": "markdown",
   "metadata": {},
   "source": [
    "Let's call OpenAI LLM model without using LLMChain:"
   ]
  },
  {
   "cell_type": "code",
   "execution_count": 57,
   "metadata": {},
   "outputs": [
    {
     "name": "stdout",
     "output_type": "stream",
     "text": [
      "\n",
      "\"Uy, good morning! Kamusta ka na ngayon?\" \n"
     ]
    }
   ],
   "source": [
    "# Format the chat template into a string\n",
    "prompt = prompt_template.format(\n",
    "    style=\"Taglish, playful and friendly tone\",\n",
    "    translate=\"Good morning! How are you today?\"\n",
    ")\n",
    "\n",
    "# Run the query\n",
    "response = llm.invoke(prompt)\n",
    "print(response)"
   ]
  },
  {
   "cell_type": "markdown",
   "metadata": {},
   "source": [
    "Now, let's do the same thing but with LLMChain:"
   ]
  },
  {
   "cell_type": "code",
   "execution_count": 65,
   "metadata": {},
   "outputs": [
    {
     "name": "stdout",
     "output_type": "stream",
     "text": [
      "<class 'dict'>\n",
      "{'style': 'Taglish, playful and friendly tone', 'translate': 'Good morning! How are you today?', 'text': '\\nHey, good morning! Kamusta ka today?'}\n",
      "\n",
      "Hey, good morning! Kamusta ka today?\n"
     ]
    }
   ],
   "source": [
    "from langchain.chains import LLMChain\n",
    "\n",
    "# Creating the chain to run queries against LLMs.\n",
    "chain = LLMChain(llm=llm, prompt=prompt_template)\n",
    "\n",
    "# Run the query\n",
    "response = chain.invoke({\"style\": \"Taglish, playful and friendly tone\", \"translate\": \"Good morning! How are you today?\"})\n",
    "\n",
    "# LLMChain returns a dictionary. \n",
    "print(type(response))\n",
    "\n",
    "print(response)\n",
    "print(response[\"text\"])\n"
   ]
  },
  {
   "cell_type": "markdown",
   "metadata": {},
   "source": [
    "With LLM Chain, the formatting of the input variables happens under the hood."
   ]
  }
 ],
 "metadata": {
  "kernelspec": {
   "display_name": "Python 3",
   "language": "python",
   "name": "python3"
  },
  "language_info": {
   "codemirror_mode": {
    "name": "ipython",
    "version": 3
   },
   "file_extension": ".py",
   "mimetype": "text/x-python",
   "name": "python",
   "nbconvert_exporter": "python",
   "pygments_lexer": "ipython3",
   "version": "3.12.2"
  }
 },
 "nbformat": 4,
 "nbformat_minor": 2
}
