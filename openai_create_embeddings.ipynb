{
 "cells": [
  {
   "cell_type": "markdown",
   "metadata": {},
   "source": [
    "\n",
    "# What is Embeddings?\n",
    "An embedding is a vector (list) of floating point numbers. The distance between two vectors measures their relatedness. Small distances suggest high relatedness and large distances suggest low relatedness.\n",
    "\n",
    "While embeddings and vectors can be used interchangeably in the context of vector embeddings, \"embeddings\" emphasizes the notion of representing data in a meaningful and structured way, while \"vectors\" refers to the numerical representation itself.\n",
    "\n",
    "There are several types of embeddings, read more: https://www.ibm.com/topics/embedding\n",
    "\n",
    "This notebook will use the text/sentence embeddings.\n",
    "\n",
    "\n",
    "\n"
   ]
  },
  {
   "cell_type": "markdown",
   "metadata": {},
   "source": [
    "## How to create embeddings\n",
    "\n",
    "To create an embedding, we're going to send our text string to the OpenAI embeddings API endpoint along with the embedding model name. We will use `text-embedding-3-small` model. It's one of the newest and most performant embedding models released by the OpenAI. Read more: https://openai.com/blog/new-embedding-models-and-api-updates\n",
    "\n",
    "\n",
    "### Setup: \n",
    "We need to setup our environment and retrieve API keys for OpenAI \\\n",
    "(Skip this  setup if you already installed the OpenAI python library, dotenv, and if you already created and configured the .env file with your api key)\n",
    "\n",
    "1. Install the OpenAI python library and dotenv for managing our api key using pip in your terminal:\n",
    "\n",
    "    ``` bash\n",
    "    pip install openai python-dotenv\n",
    "    # This command will install both the OpenAI python library and dotenv.\n",
    "    ```\n",
    "2. Verify if the installation was successfull by running this command in your terminal:\n",
    "\n",
    "    ``` bash\n",
    "    pip list\n",
    "    # This will list all the installed python packages, locate both packages to verify if they're successfully installed.\n",
    "    ```\n",
    "3. Create a `.env` file and paste your OpenAI API key from https://platform.openai.com/api-keys:\n",
    "    ``` bash\n",
    "    # Your .env file should look like this, replace the value with your actual OpenAI API key\n",
    "    OPENAI_API_KEY=sk-#####\n",
    "    ```\n"
   ]
  },
  {
   "cell_type": "markdown",
   "metadata": {},
   "source": [
    "### Creating embeddings\n",
    "Let's initialize our connection to OpenAI Embeddings:"
   ]
  },
  {
   "cell_type": "code",
   "execution_count": null,
   "metadata": {},
   "outputs": [],
   "source": [
    "import os\n",
    "from openai import OpenAI\n",
    "from dotenv import load_dotenv, find_dotenv\n",
    "\n",
    "# Load the .env\n",
    "load_dotenv(find_dotenv())\n",
    "\n",
    "client = OpenAI(api_key=os.getenv('OPENAI_API_KEY'))"
   ]
  },
  {
   "cell_type": "markdown",
   "metadata": {},
   "source": [
    "We can now create embeddings with OpenAI as follows:"
   ]
  },
  {
   "cell_type": "code",
   "execution_count": null,
   "metadata": {},
   "outputs": [],
   "source": [
    "MODEL = \"text-embedding-3-small\"\n",
    "\n",
    "response = client.embeddings.create(\n",
    "    input=\"Hello villagers\",\n",
    "    model=MODEL\n",
    ")\n",
    "\n",
    "# Print out the vectors\n",
    "print(response.data[0].embedding)\n"
   ]
  },
  {
   "cell_type": "markdown",
   "metadata": {},
   "source": [
    "Let's print the dimension length of the vector:"
   ]
  },
  {
   "cell_type": "code",
   "execution_count": null,
   "metadata": {},
   "outputs": [],
   "source": [
    "print(\"Length: \" , len(response.data[0].embedding))"
   ]
  },
  {
   "cell_type": "markdown",
   "metadata": {},
   "source": [
    "That's a lot of numbers!\n",
    "### Reducing embedding dimensions\n",
    "Using larger embeddings, such as storing them in a *vector database* for retrieval, usually involves higher costs and requires more computing power, memory, and storage compared to using smaller embeddings.\n",
    "\n",
    "The new embedding models were trained with a technique that will allows us to balance performance and the cost of using embeddings. We can shorten embeddings (by removing some numbers from the end of the sequence) without sacrificing their ability to represent concepts, thanks to the `dimensions` API parameter.\n",
    "\n",
    "Example usage of `dimensions` API parameter."
   ]
  },
  {
   "cell_type": "code",
   "execution_count": null,
   "metadata": {},
   "outputs": [],
   "source": [
    "DIMENSIONS = 12\n",
    "\n",
    "response = client.embeddings.create(\n",
    "    input=\"Hello villagers\",\n",
    "    model=MODEL,\n",
    "    dimensions=DIMENSIONS\n",
    ")\n",
    "\n",
    "# Print out the dimension length of the vector\n",
    "print(\"Length: \" , len(response.data[0].embedding))"
   ]
  },
  {
   "cell_type": "markdown",
   "metadata": {},
   "source": [
    "Read more about the OpenAPI embedding API parameters : https://platform.openai.com/docs/api-reference/embeddings/create"
   ]
  },
  {
   "cell_type": "markdown",
   "metadata": {},
   "source": [
    "### What is a vector database?\n",
    "\n",
    "A vector database is a type of database designed to efficiently store and search vector data. In this type of database, data points are represented as vectors in a high-dimensional space. These vectors can come from various sources, such as machine learning models that generate embeddings for words or images.\n",
    "\n",
    "Vector databases are designed to support similarity searches, nearest neighbor queries, and other operations that involve measuring the similarity or distance between vectors. Read more: https://www.ibm.com/topics/vector-database\n",
    "\n",
    "List of vector databases: https://cookbook.openai.com/examples/vector_databases/readme."
   ]
  }
 ],
 "metadata": {
  "kernelspec": {
   "display_name": "Python 3",
   "language": "python",
   "name": "python3"
  },
  "language_info": {
   "codemirror_mode": {
    "name": "ipython",
    "version": 3
   },
   "file_extension": ".py",
   "mimetype": "text/x-python",
   "name": "python",
   "nbconvert_exporter": "python",
   "pygments_lexer": "ipython3",
   "version": "3.12.2"
  }
 },
 "nbformat": 4,
 "nbformat_minor": 2
}
